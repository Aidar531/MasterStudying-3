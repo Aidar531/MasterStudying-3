{
 "cells": [
  {
   "cell_type": "markdown",
   "metadata": {},
   "source": [
    "<html>\n",
    "<head>\n",
    "\t<title></title>\n",
    "</head>\n",
    "<body>\n",
    "<h2 style=\"text-align: center;line-height: 120%;\">ФЕДЕРАЛЬНОЕ ГОСУДАРСТВЕННОЕ БЮДЖЕТНОЕ ОБРАЗОВАТЕЛЬНОЕ УЧРЕЖДЕНИЕ ВЫСШЕГО ОБРАЗОВАНИЯ НАЦИОНАЛЬНЫЙ ИССЛЕДОВАТЕЛЬСКИЙ УНИВЕРСИТЕТ «МОСКОВСКИЙ ЭНЕРГЕТИЧЕСКИЙ ИНСТИТУТ» Кафедра «РЗиАЭ»</h2>\n",
    "<h2 style=\"text-align: center;line-height: 20%;\">Лабораторная работа №4</h2>\n",
    "\n",
    "<h3 style=\"text-align: center;line-height: 80%;\"><em>Глубокое обучение для прогнозирования временного ряда.</em></h3>\n",
    "\n",
    "<p style=\"text-align: right;line-height: 40%;\">Выполнил: студент группы Э-13м-19</p>\n",
    "\n",
    "<p style=\"text-align: right;line-height: 40%;\">Энтентеев А.Р.</p>\n",
    "\n",
    "<p style=\"text-align: right;line-height: 40%;\">Проверил: Нухулов С.М.</p>\n",
    "<h4 style=\"text-align: center;line-height: 100%;\"><em> Москва, 2020</em></h3>\n",
    "</body>\n",
    "</html>"
   ]
  },
  {
   "cell_type": "code",
   "execution_count": 1,
   "metadata": {},
   "outputs": [],
   "source": [
    "import pandas as pd\n",
    "import numpy as np\n",
    "from sklearn.model_selection import train_test_split\n",
    "import matplotlib.pyplot as plt\n",
    "from tensorflow.keras.models import Sequential\n",
    "from tensorflow.keras.layers import Flatten, Dense, Activation, Dropout,BatchNormalization, Conv1D, GlobalMaxPooling1D, MaxPooling1D, GRU\n",
    "from sklearn.preprocessing import MinMaxScaler\n",
    "from tensorflow import keras"
   ]
  },
  {
   "cell_type": "markdown",
   "metadata": {},
   "source": [
    "### Подготовка данных"
   ]
  },
  {
   "cell_type": "code",
   "execution_count": 2,
   "metadata": {},
   "outputs": [],
   "source": [
    "data = pd.read_csv(\"AEP_hourly.csv\")"
   ]
  },
  {
   "cell_type": "code",
   "execution_count": 3,
   "metadata": {},
   "outputs": [
    {
     "data": {
      "text/html": [
       "<div>\n",
       "<style scoped>\n",
       "    .dataframe tbody tr th:only-of-type {\n",
       "        vertical-align: middle;\n",
       "    }\n",
       "\n",
       "    .dataframe tbody tr th {\n",
       "        vertical-align: top;\n",
       "    }\n",
       "\n",
       "    .dataframe thead th {\n",
       "        text-align: right;\n",
       "    }\n",
       "</style>\n",
       "<table border=\"1\" class=\"dataframe\">\n",
       "  <thead>\n",
       "    <tr style=\"text-align: right;\">\n",
       "      <th></th>\n",
       "      <th>AEP_MW</th>\n",
       "    </tr>\n",
       "  </thead>\n",
       "  <tbody>\n",
       "    <tr>\n",
       "      <th>0</th>\n",
       "      <td>13478.0</td>\n",
       "    </tr>\n",
       "    <tr>\n",
       "      <th>1</th>\n",
       "      <td>12865.0</td>\n",
       "    </tr>\n",
       "    <tr>\n",
       "      <th>2</th>\n",
       "      <td>12577.0</td>\n",
       "    </tr>\n",
       "    <tr>\n",
       "      <th>3</th>\n",
       "      <td>12517.0</td>\n",
       "    </tr>\n",
       "    <tr>\n",
       "      <th>4</th>\n",
       "      <td>12670.0</td>\n",
       "    </tr>\n",
       "  </tbody>\n",
       "</table>\n",
       "</div>"
      ],
      "text/plain": [
       "    AEP_MW\n",
       "0  13478.0\n",
       "1  12865.0\n",
       "2  12577.0\n",
       "3  12517.0\n",
       "4  12670.0"
      ]
     },
     "execution_count": 3,
     "metadata": {},
     "output_type": "execute_result"
    }
   ],
   "source": [
    "data = data.drop('Datetime',axis=1)\n",
    "data.head()"
   ]
  },
  {
   "cell_type": "markdown",
   "metadata": {},
   "source": [
    "### Генератор для формирования обучающих пакетов"
   ]
  },
  {
   "cell_type": "code",
   "execution_count": 12,
   "metadata": {},
   "outputs": [],
   "source": [
    "def generator(data, lookback, delay, min_index, max_index, \n",
    "                 shuffle = True, batch_size = 24, step = 2): \n",
    "    if max_index is None: \n",
    "        max_index = len(data)-delay-1 \n",
    "    i = min_index + lookback \n",
    "    while 1: \n",
    "        if shuffle: \n",
    "                i = np.random.randint(min_index + lookback, max_index)\n",
    "        if i + batch_size >= max_index:\n",
    "            if shuffle: \n",
    "                i = np.random.randint(min_index + lookback, max_index)\n",
    "            else: \n",
    "                i = min_index + lookback\n",
    "               \n",
    "        rows = np.arange(i, min(i + batch_size, max_index))\n",
    "        i += len(rows)             \n",
    "        samples = np.zeros((len(rows), lookback // step, \n",
    "                           data.shape[-1]))\n",
    "        targets = np.zeros((len(rows),)) \n",
    "        for j, row in enumerate(rows): \n",
    "            indices = range(rows[j] - lookback, rows[j], step) \n",
    "            samples[j] = data.iloc[indices] \n",
    "            targets[j] = data.iloc[rows[j] + delay] #[1] \n",
    "        yield samples, targets "
   ]
  },
  {
   "cell_type": "code",
   "execution_count": 13,
   "metadata": {},
   "outputs": [],
   "source": [
    "TrainGen = generator(data,48,1,0,63667,shuffle=True)\n",
    "ValGen = generator(data,48,1,63668,84890,shuffle=True)\n",
    "TestGen = generator(data,48,1,84891,121272,shuffle=True)"
   ]
  },
  {
   "cell_type": "markdown",
   "metadata": {},
   "source": [
    "# Наивный алгоритм"
   ]
  },
  {
   "cell_type": "code",
   "execution_count": 15,
   "metadata": {},
   "outputs": [
    {
     "name": "stdout",
     "output_type": "stream",
     "text": [
      "(24, 24, 1)\n",
      "Среднее отклонение =  864.875\n",
      "Среднее абсолютное отклонение =  0.0662638835093408\n"
     ]
    },
    {
     "data": {
      "image/png": "[encoded data removed]",
      "text/plain": [
       "<Figure size 432x288 with 1 Axes>"
      ]
     },
     "metadata": {
      "needs_background": "light"
     },
     "output_type": "display_data"
    }
   ],
   "source": [
    "samples, targets = next(ValGen)\n",
    "print(samples.shape)\n",
    "prediction = samples[:,-1,0]\n",
    "plt.plot(prediction)\n",
    "plt.plot(range(0,24,1),targets[0:24])\n",
    "ME = np.mean(np.abs(prediction[0:24] - targets[0:24]))\n",
    "MAE = np.mean(np.abs(prediction[0:24] - targets[0:24])/prediction[0:24])\n",
    "print(\"Среднее отклонение = \", ME)\n",
    "print(\"Среднее абсолютное отклонение = \", MAE)\n"
   ]
  },
  {
   "cell_type": "markdown",
   "metadata": {},
   "source": [
    "# Многослойный перцептрон"
   ]
  },
  {
   "cell_type": "code",
   "execution_count": 6,
   "metadata": {},
   "outputs": [],
   "source": [
    "data = pd.read_csv(\"AEP_hourly.csv\")"
   ]
  },
  {
   "cell_type": "code",
   "execution_count": 7,
   "metadata": {},
   "outputs": [],
   "source": [
    "scaler = MinMaxScaler(feature_range=(0,1))\n",
    "data = data.drop('Datetime',axis=1)\n",
    "scaler.fit(data)\n",
    "data = scaler.transform(data)\n"
   ]
  },
  {
   "cell_type": "code",
   "execution_count": 8,
   "metadata": {},
   "outputs": [
    {
     "data": {
      "text/html": [
       "<div>\n",
       "<style scoped>\n",
       "    .dataframe tbody tr th:only-of-type {\n",
       "        vertical-align: middle;\n",
       "    }\n",
       "\n",
       "    .dataframe tbody tr th {\n",
       "        vertical-align: top;\n",
       "    }\n",
       "\n",
       "    .dataframe thead th {\n",
       "        text-align: right;\n",
       "    }\n",
       "</style>\n",
       "<table border=\"1\" class=\"dataframe\">\n",
       "  <thead>\n",
       "    <tr style=\"text-align: right;\">\n",
       "      <th></th>\n",
       "      <th>0</th>\n",
       "    </tr>\n",
       "  </thead>\n",
       "  <tbody>\n",
       "    <tr>\n",
       "      <th>0</th>\n",
       "      <td>0.241839</td>\n",
       "    </tr>\n",
       "    <tr>\n",
       "      <th>1</th>\n",
       "      <td>0.203798</td>\n",
       "    </tr>\n",
       "    <tr>\n",
       "      <th>2</th>\n",
       "      <td>0.185925</td>\n",
       "    </tr>\n",
       "    <tr>\n",
       "      <th>3</th>\n",
       "      <td>0.182202</td>\n",
       "    </tr>\n",
       "    <tr>\n",
       "      <th>4</th>\n",
       "      <td>0.191697</td>\n",
       "    </tr>\n",
       "    <tr>\n",
       "      <th>...</th>\n",
       "      <td>...</td>\n",
       "    </tr>\n",
       "    <tr>\n",
       "      <th>121268</th>\n",
       "      <td>0.714162</td>\n",
       "    </tr>\n",
       "    <tr>\n",
       "      <th>121269</th>\n",
       "      <td>0.708576</td>\n",
       "    </tr>\n",
       "    <tr>\n",
       "      <th>121270</th>\n",
       "      <td>0.697468</td>\n",
       "    </tr>\n",
       "    <tr>\n",
       "      <th>121271</th>\n",
       "      <td>0.672335</td>\n",
       "    </tr>\n",
       "    <tr>\n",
       "      <th>121272</th>\n",
       "      <td>0.646146</td>\n",
       "    </tr>\n",
       "  </tbody>\n",
       "</table>\n",
       "<p>121273 rows × 1 columns</p>\n",
       "</div>"
      ],
      "text/plain": [
       "               0\n",
       "0       0.241839\n",
       "1       0.203798\n",
       "2       0.185925\n",
       "3       0.182202\n",
       "4       0.191697\n",
       "...          ...\n",
       "121268  0.714162\n",
       "121269  0.708576\n",
       "121270  0.697468\n",
       "121271  0.672335\n",
       "121272  0.646146\n",
       "\n",
       "[121273 rows x 1 columns]"
      ]
     },
     "execution_count": 8,
     "metadata": {},
     "output_type": "execute_result"
    }
   ],
   "source": [
    "data = pd.DataFrame(data)\n",
    "data"
   ]
  },
  {
   "cell_type": "code",
   "execution_count": 32,
   "metadata": {},
   "outputs": [],
   "source": [
    "TrainGen = generator(data,48,1,0,63667,shuffle=True)\n",
    "ValGen = generator(data,48,1,63668,84890,shuffle=True)\n",
    "TestGen = generator(data,48,1,84891,121216,shuffle=True)"
   ]
  },
  {
   "cell_type": "code",
   "execution_count": 51,
   "metadata": {},
   "outputs": [],
   "source": [
    "def createModel():\n",
    "#     NB_CLASSES = y_train.shape[1]\n",
    "    INPUT_SHAPE = (24,1)\n",
    "    model = Sequential()\n",
    "    model.add(Flatten(input_shape=INPUT_SHAPE))\n",
    "    model.add(Activation('relu'))\n",
    "    model.add(Dense(32))\n",
    "    model.add(Activation('relu'))\n",
    "    model.add(Dense(32))\n",
    "    model.add(Activation('relu'))\n",
    "    model.add(Dense(8))\n",
    "    model.add(Activation('relu'))\n",
    "    model.add(Dropout(0.3))\n",
    "    model.add(Dense(1))\n",
    "    model.add(Activation('sigmoid'))\n",
    "    model.summary()\n",
    "    return model"
   ]
  },
  {
   "cell_type": "code",
   "execution_count": 52,
   "metadata": {},
   "outputs": [],
   "source": [
    "def modelLearning(train_gen, val_gen, model, EPOCHS = 20):\n",
    "    \n",
    "    hist = model.fit(train_gen, steps_per_epoch = 300, epochs = EPOCHS,\n",
    "                        verbose = 1, validation_data = val_gen, validation_steps = 200)\n",
    "    return hist"
   ]
  },
  {
   "cell_type": "code",
   "execution_count": 53,
   "metadata": {},
   "outputs": [],
   "source": [
    "def plotHistory(history):\n",
    "    epochs = history.epoch\n",
    "    plt.figure()\n",
    "    plt.plot(epochs,history.history[\"mae\"])\n",
    "    plt.plot(epochs,history.history[\"val_mae\"])\n",
    "    plt.legend([\"mae\",\"val_mae\"])\n",
    "    plt.show()"
   ]
  },
  {
   "cell_type": "code",
   "execution_count": 128,
   "metadata": {},
   "outputs": [],
   "source": [
    "def plotGraph(model):\n",
    "    samples,targets = next(TestGen)\n",
    "    prediction = model.predict(samples)\n",
    "    plt.plot(targets)\n",
    "    plt.plot(prediction)"
   ]
  },
  {
   "cell_type": "code",
   "execution_count": 54,
   "metadata": {},
   "outputs": [
    {
     "name": "stdout",
     "output_type": "stream",
     "text": [
      "Model: \"sequential_9\"\n",
      "_________________________________________________________________\n",
      "Layer (type)                 Output Shape              Param #   \n",
      "=================================================================\n",
      "flatten_7 (Flatten)          (None, 24)                0         \n",
      "_________________________________________________________________\n",
      "activation_15 (Activation)   (None, 24)                0         \n",
      "_________________________________________________________________\n",
      "dense_24 (Dense)             (None, 32)                800       \n",
      "_________________________________________________________________\n",
      "activation_16 (Activation)   (None, 32)                0         \n",
      "_________________________________________________________________\n",
      "dense_25 (Dense)             (None, 32)                1056      \n",
      "_________________________________________________________________\n",
      "activation_17 (Activation)   (None, 32)                0         \n",
      "_________________________________________________________________\n",
      "dense_26 (Dense)             (None, 8)                 264       \n",
      "_________________________________________________________________\n",
      "activation_18 (Activation)   (None, 8)                 0         \n",
      "_________________________________________________________________\n",
      "dropout_11 (Dropout)         (None, 8)                 0         \n",
      "_________________________________________________________________\n",
      "dense_27 (Dense)             (None, 1)                 9         \n",
      "_________________________________________________________________\n",
      "activation_19 (Activation)   (None, 1)                 0         \n",
      "=================================================================\n",
      "Total params: 2,129\n",
      "Trainable params: 2,129\n",
      "Non-trainable params: 0\n",
      "_________________________________________________________________\n"
     ]
    }
   ],
   "source": [
    "model_1 = createModel()"
   ]
  },
  {
   "cell_type": "code",
   "execution_count": 55,
   "metadata": {},
   "outputs": [],
   "source": [
    "model_1.compile(loss='mse',\n",
    "              optimizer = 'rmsprop',\n",
    "              metrics=[\"mae\"])"
   ]
  },
  {
   "cell_type": "code",
   "execution_count": 56,
   "metadata": {
    "scrolled": true
   },
   "outputs": [
    {
     "name": "stdout",
     "output_type": "stream",
     "text": [
      "Epoch 1/20\n",
      "300/300 [==============================] - 5s 17ms/step - loss: 0.0255 - mae: 0.1294 - val_loss: 0.0203 - val_mae: 0.1187\n",
      "Epoch 2/20\n",
      "300/300 [==============================] - 5s 17ms/step - loss: 0.0178 - mae: 0.1071 - val_loss: 0.0174 - val_mae: 0.1110\n",
      "Epoch 3/20\n",
      "300/300 [==============================] - 4s 14ms/step - loss: 0.0129 - mae: 0.0890 - val_loss: 0.0120 - val_mae: 0.0887\n",
      "Epoch 4/20\n",
      "300/300 [==============================] - 4s 14ms/step - loss: 0.0119 - mae: 0.0859 - val_loss: 0.0073 - val_mae: 0.0659\n",
      "Epoch 5/20\n",
      "300/300 [==============================] - 4s 13ms/step - loss: 0.0110 - mae: 0.0825 - val_loss: 0.0125 - val_mae: 0.0909\n",
      "Epoch 6/20\n",
      "300/300 [==============================] - 4s 13ms/step - loss: 0.0107 - mae: 0.0810 - val_loss: 0.0069 - val_mae: 0.0643\n",
      "Epoch 7/20\n",
      "300/300 [==============================] - 4s 13ms/step - loss: 0.0104 - mae: 0.0794 - val_loss: 0.0066 - val_mae: 0.0628\n",
      "Epoch 8/20\n",
      "300/300 [==============================] - 4s 13ms/step - loss: 0.0102 - mae: 0.0784 - val_loss: 0.0065 - val_mae: 0.0623\n",
      "Epoch 9/20\n",
      "300/300 [==============================] - 4s 14ms/step - loss: 0.0100 - mae: 0.0774 - val_loss: 0.0076 - val_mae: 0.0672\n",
      "Epoch 10/20\n",
      "300/300 [==============================] - 4s 13ms/step - loss: 0.0101 - mae: 0.0774 - val_loss: 0.0073 - val_mae: 0.0671\n",
      "Epoch 11/20\n",
      "300/300 [==============================] - 4s 14ms/step - loss: 0.0090 - mae: 0.0722 - val_loss: 0.0072 - val_mae: 0.0645\n",
      "Epoch 12/20\n",
      "300/300 [==============================] - 4s 13ms/step - loss: 0.0095 - mae: 0.0750 - val_loss: 0.0076 - val_mae: 0.0682\n",
      "Epoch 13/20\n",
      "300/300 [==============================] - 4s 14ms/step - loss: 0.0088 - mae: 0.0724 - val_loss: 0.0064 - val_mae: 0.0618\n",
      "Epoch 14/20\n",
      "300/300 [==============================] - 4s 13ms/step - loss: 0.0095 - mae: 0.0750 - val_loss: 0.0057 - val_mae: 0.0561\n",
      "Epoch 15/20\n",
      "300/300 [==============================] - 4s 13ms/step - loss: 0.0090 - mae: 0.0736 - val_loss: 0.0069 - val_mae: 0.0646\n",
      "Epoch 16/20\n",
      "300/300 [==============================] - 4s 14ms/step - loss: 0.0096 - mae: 0.0747 - val_loss: 0.0066 - val_mae: 0.0604\n",
      "Epoch 17/20\n",
      "300/300 [==============================] - 4s 14ms/step - loss: 0.0084 - mae: 0.0701 - val_loss: 0.0076 - val_mae: 0.0664\n",
      "Epoch 18/20\n",
      "300/300 [==============================] - 4s 14ms/step - loss: 0.0086 - mae: 0.0703 - val_loss: 0.0079 - val_mae: 0.0673\n",
      "Epoch 19/20\n",
      "300/300 [==============================] - 4s 14ms/step - loss: 0.0092 - mae: 0.0734 - val_loss: 0.0066 - val_mae: 0.0624\n",
      "Epoch 20/20\n",
      "300/300 [==============================] - 4s 14ms/step - loss: 0.0087 - mae: 0.0709 - val_loss: 0.0068 - val_mae: 0.0644\n"
     ]
    }
   ],
   "source": [
    "history_1 = modelLearning(TrainGen,ValGen,model_1,20)"
   ]
  },
  {
   "cell_type": "code",
   "execution_count": 57,
   "metadata": {},
   "outputs": [
    {
     "data": {
      "image/png": "[encoded data removed]",
      "text/plain": [
       "<Figure size 432x288 with 1 Axes>"
      ]
     },
     "metadata": {
      "needs_background": "light"
     },
     "output_type": "display_data"
    }
   ],
   "source": [
    "plotHistory(history_1)"
   ]
  },
  {
   "cell_type": "code",
   "execution_count": 127,
   "metadata": {},
   "outputs": [
    {
     "name": "stdout",
     "output_type": "stream",
     "text": [
      "150/150 [==============================] - 1s 8ms/step - loss: 0.0075 - mae: 0.0646\n"
     ]
    },
    {
     "data": {
      "text/plain": [
       "[0.0074824863113462925, 0.0646476000547409]"
      ]
     },
     "execution_count": 127,
     "metadata": {},
     "output_type": "execute_result"
    }
   ],
   "source": [
    "model_1.evaluate(TestGen, steps = 150)"
   ]
  },
  {
   "cell_type": "code",
   "execution_count": 130,
   "metadata": {},
   "outputs": [
    {
     "data": {
      "image/png": "[encoded data removed]",
      "text/plain": [
       "<Figure size 432x288 with 1 Axes>"
      ]
     },
     "metadata": {
      "needs_background": "light"
     },
     "output_type": "display_data"
    }
   ],
   "source": [
    "plotGraph(model_1)"
   ]
  },
  {
   "cell_type": "markdown",
   "metadata": {},
   "source": [
    "# Вывод:\n",
    "### Полученная модель получилась лучше, чем наивный подход и достигает среднего абсолютного отклонения 0,064 на тестовой выборке"
   ]
  },
  {
   "cell_type": "markdown",
   "metadata": {},
   "source": [
    "# Сверточная сеть"
   ]
  },
  {
   "cell_type": "code",
   "execution_count": 78,
   "metadata": {},
   "outputs": [],
   "source": [
    "def createCONVmodel():\n",
    "    INPUT_SHAPE = (24,1)\n",
    "    model = Sequential()\n",
    "    model.add(Conv1D(filters=32, kernel_size=6, activation='relu', input_shape=INPUT_SHAPE)) \n",
    "    model.add(MaxPooling1D(pool_size=2))\n",
    "    model.add(Conv1D(filters=64, kernel_size=4, activation='relu')) \n",
    "    model.add(MaxPooling1D(pool_size=2,padding = 'valid'))\n",
    "#     model.add(Conv1D(filters=128, kernel_size=4, activation='relu')) \n",
    "#     model.add(GlobalMaxPooling1D())\n",
    "    model.add(Flatten()) \n",
    "    model.add(Dense(32, activation='relu'))\n",
    "    model.add(Dropout(0.3))\n",
    "    model.add(Dense(16, activation='relu')) \n",
    "    model.add(Dropout(0.3))\n",
    "    model.add(Dense(1,activation = 'sigmoid')) \n",
    "    model.summary() \n",
    "    return model"
   ]
  },
  {
   "cell_type": "code",
   "execution_count": 79,
   "metadata": {},
   "outputs": [
    {
     "name": "stdout",
     "output_type": "stream",
     "text": [
      "Model: \"sequential_17\"\n",
      "_________________________________________________________________\n",
      "Layer (type)                 Output Shape              Param #   \n",
      "=================================================================\n",
      "conv1d_30 (Conv1D)           (None, 19, 32)            224       \n",
      "_________________________________________________________________\n",
      "max_pooling1d_26 (MaxPooling (None, 9, 32)             0         \n",
      "_________________________________________________________________\n",
      "conv1d_31 (Conv1D)           (None, 6, 64)             8256      \n",
      "_________________________________________________________________\n",
      "max_pooling1d_27 (MaxPooling (None, 3, 64)             0         \n",
      "_________________________________________________________________\n",
      "flatten_11 (Flatten)         (None, 192)               0         \n",
      "_________________________________________________________________\n",
      "dense_37 (Dense)             (None, 32)                6176      \n",
      "_________________________________________________________________\n",
      "dropout_18 (Dropout)         (None, 32)                0         \n",
      "_________________________________________________________________\n",
      "dense_38 (Dense)             (None, 16)                528       \n",
      "_________________________________________________________________\n",
      "dropout_19 (Dropout)         (None, 16)                0         \n",
      "_________________________________________________________________\n",
      "dense_39 (Dense)             (None, 1)                 17        \n",
      "=================================================================\n",
      "Total params: 15,201\n",
      "Trainable params: 15,201\n",
      "Non-trainable params: 0\n",
      "_________________________________________________________________\n"
     ]
    }
   ],
   "source": [
    "model_2 = createCONVmodel()"
   ]
  },
  {
   "cell_type": "code",
   "execution_count": 80,
   "metadata": {},
   "outputs": [],
   "source": [
    "model_2.compile(loss='mse',\n",
    "              optimizer = 'rmsprop',\n",
    "              metrics=[\"mae\"])"
   ]
  },
  {
   "cell_type": "code",
   "execution_count": 81,
   "metadata": {
    "scrolled": true
   },
   "outputs": [
    {
     "name": "stdout",
     "output_type": "stream",
     "text": [
      "Epoch 1/20\n",
      "300/300 [==============================] - 4s 14ms/step - loss: 0.0262 - mae: 0.1309 - val_loss: 0.0131 - val_mae: 0.0914\n",
      "Epoch 2/20\n",
      "300/300 [==============================] - 4s 13ms/step - loss: 0.0149 - mae: 0.0965 - val_loss: 0.0154 - val_mae: 0.1032\n",
      "Epoch 3/20\n",
      "300/300 [==============================] - 4s 14ms/step - loss: 0.0139 - mae: 0.0933 - val_loss: 0.0087 - val_mae: 0.0728\n",
      "Epoch 4/20\n",
      "300/300 [==============================] - 4s 14ms/step - loss: 0.0122 - mae: 0.0863 - val_loss: 0.0083 - val_mae: 0.0703\n",
      "Epoch 5/20\n",
      "300/300 [==============================] - 4s 14ms/step - loss: 0.0108 - mae: 0.0805 - val_loss: 0.0062 - val_mae: 0.0611\n",
      "Epoch 6/20\n",
      "300/300 [==============================] - 4s 14ms/step - loss: 0.0100 - mae: 0.0775 - val_loss: 0.0074 - val_mae: 0.0675\n",
      "Epoch 7/20\n",
      "300/300 [==============================] - 4s 14ms/step - loss: 0.0100 - mae: 0.0790 - val_loss: 0.0088 - val_mae: 0.0729\n",
      "Epoch 8/20\n",
      "300/300 [==============================] - 4s 14ms/step - loss: 0.0095 - mae: 0.0754 - val_loss: 0.0083 - val_mae: 0.0705\n",
      "Epoch 9/20\n",
      "300/300 [==============================] - 4s 14ms/step - loss: 0.0091 - mae: 0.0726 - val_loss: 0.0087 - val_mae: 0.0717\n",
      "Epoch 10/20\n",
      "300/300 [==============================] - 4s 14ms/step - loss: 0.0094 - mae: 0.0755 - val_loss: 0.0071 - val_mae: 0.0637\n",
      "Epoch 11/20\n",
      "300/300 [==============================] - 5s 16ms/step - loss: 0.0078 - mae: 0.0686 - val_loss: 0.0058 - val_mae: 0.0579\n",
      "Epoch 12/20\n",
      "300/300 [==============================] - 5s 17ms/step - loss: 0.0081 - mae: 0.0688 - val_loss: 0.0068 - val_mae: 0.0649\n",
      "Epoch 13/20\n",
      "300/300 [==============================] - 4s 15ms/step - loss: 0.0077 - mae: 0.0685 - val_loss: 0.0050 - val_mae: 0.0545\n",
      "Epoch 14/20\n",
      "300/300 [==============================] - 4s 14ms/step - loss: 0.0084 - mae: 0.0701 - val_loss: 0.0061 - val_mae: 0.0588\n",
      "Epoch 15/20\n",
      "300/300 [==============================] - 4s 15ms/step - loss: 0.0081 - mae: 0.0706 - val_loss: 0.0060 - val_mae: 0.0610\n",
      "Epoch 16/20\n",
      "300/300 [==============================] - 5s 16ms/step - loss: 0.0071 - mae: 0.0651 - val_loss: 0.0055 - val_mae: 0.0577\n",
      "Epoch 17/20\n",
      "300/300 [==============================] - 4s 14ms/step - loss: 0.0074 - mae: 0.0669 - val_loss: 0.0045 - val_mae: 0.0516\n",
      "Epoch 18/20\n",
      "300/300 [==============================] - 4s 14ms/step - loss: 0.0075 - mae: 0.0668 - val_loss: 0.0069 - val_mae: 0.0638\n",
      "Epoch 19/20\n",
      "300/300 [==============================] - 4s 15ms/step - loss: 0.0077 - mae: 0.0667 - val_loss: 0.0049 - val_mae: 0.0529\n",
      "Epoch 20/20\n",
      "300/300 [==============================] - 4s 14ms/step - loss: 0.0070 - mae: 0.0647 - val_loss: 0.0061 - val_mae: 0.0600\n"
     ]
    }
   ],
   "source": [
    "history_2 = modelLearning(TrainGen,ValGen,model_2,20)"
   ]
  },
  {
   "cell_type": "code",
   "execution_count": 83,
   "metadata": {},
   "outputs": [
    {
     "data": {
      "image/png": "[encoded data removed]",
      "text/plain": [
       "<Figure size 432x288 with 1 Axes>"
      ]
     },
     "metadata": {
      "needs_background": "light"
     },
     "output_type": "display_data"
    }
   ],
   "source": [
    "plotHistory(history_2)"
   ]
  },
  {
   "cell_type": "code",
   "execution_count": 84,
   "metadata": {},
   "outputs": [
    {
     "name": "stdout",
     "output_type": "stream",
     "text": [
      "1513/1513 [==============================] - 16s 10ms/step - loss: 0.0072 - mae: 0.0671\n"
     ]
    },
    {
     "data": {
      "text/plain": [
       "[0.00719783129170537, 0.0670531839132309]"
      ]
     },
     "execution_count": 84,
     "metadata": {},
     "output_type": "execute_result"
    }
   ],
   "source": [
    "model_2.evaluate(TestGen, steps = 500)"
   ]
  },
  {
   "cell_type": "code",
   "execution_count": 139,
   "metadata": {},
   "outputs": [
    {
     "data": {
      "image/png": "[encoded data removed]",
      "text/plain": [
       "<Figure size 432x288 with 1 Axes>"
      ]
     },
     "metadata": {
      "needs_background": "light"
     },
     "output_type": "display_data"
    }
   ],
   "source": [
    "plotGraph(model_2)"
   ]
  },
  {
   "cell_type": "markdown",
   "metadata": {},
   "source": [
    "# Вывод:\n",
    "### Полученная модель получилась чуть хуже, чем многослойнвый перцептрон и достигает среднего абсолютного отклонения 0,67 на тестовой выборке"
   ]
  },
  {
   "cell_type": "markdown",
   "metadata": {},
   "source": [
    "# Рекурентная сеть"
   ]
  },
  {
   "cell_type": "code",
   "execution_count": 93,
   "metadata": {},
   "outputs": [],
   "source": [
    "def createRNNmodel():\n",
    "    model = Sequential() \n",
    "    model.add(GRU(32, input_shape = (None, 1))) \n",
    "    model.add(Dense(1,activation = \"sigmoid\")) \n",
    "    model.summary() \n",
    "    return model"
   ]
  },
  {
   "cell_type": "code",
   "execution_count": 94,
   "metadata": {},
   "outputs": [
    {
     "name": "stdout",
     "output_type": "stream",
     "text": [
      "Model: \"sequential_19\"\n",
      "_________________________________________________________________\n",
      "Layer (type)                 Output Shape              Param #   \n",
      "=================================================================\n",
      "gru_1 (GRU)                  (None, 32)                3360      \n",
      "_________________________________________________________________\n",
      "dense_41 (Dense)             (None, 1)                 33        \n",
      "=================================================================\n",
      "Total params: 3,393\n",
      "Trainable params: 3,393\n",
      "Non-trainable params: 0\n",
      "_________________________________________________________________\n"
     ]
    }
   ],
   "source": [
    "model_3 = createRNNmodel()"
   ]
  },
  {
   "cell_type": "code",
   "execution_count": 95,
   "metadata": {},
   "outputs": [],
   "source": [
    "model_3.compile(loss='mse',\n",
    "              optimizer = 'rmsprop',\n",
    "              metrics=[\"mae\"])"
   ]
  },
  {
   "cell_type": "code",
   "execution_count": 96,
   "metadata": {
    "scrolled": true
   },
   "outputs": [
    {
     "name": "stdout",
     "output_type": "stream",
     "text": [
      "Epoch 1/20\n",
      "300/300 [==============================] - 4s 14ms/step - loss: 0.0246 - mae: 0.1259 - val_loss: 0.0173 - val_mae: 0.1051\n",
      "Epoch 2/20\n",
      "300/300 [==============================] - 5s 17ms/step - loss: 0.0181 - mae: 0.1086 - val_loss: 0.0143 - val_mae: 0.0964\n",
      "Epoch 3/20\n",
      "300/300 [==============================] - 4s 14ms/step - loss: 0.0146 - mae: 0.0966 - val_loss: 0.0144 - val_mae: 0.0945\n",
      "Epoch 4/20\n",
      "300/300 [==============================] - 4s 14ms/step - loss: 0.0120 - mae: 0.0881 - val_loss: 0.0105 - val_mae: 0.0823\n",
      "Epoch 5/20\n",
      "300/300 [==============================] - 4s 14ms/step - loss: 0.0110 - mae: 0.0835 - val_loss: 0.0093 - val_mae: 0.0763\n",
      "Epoch 6/20\n",
      "300/300 [==============================] - 4s 14ms/step - loss: 0.0104 - mae: 0.0810 - val_loss: 0.0083 - val_mae: 0.0717\n",
      "Epoch 7/20\n",
      "300/300 [==============================] - 4s 14ms/step - loss: 0.0102 - mae: 0.0803 - val_loss: 0.0108 - val_mae: 0.0809\n",
      "Epoch 8/20\n",
      "300/300 [==============================] - 4s 14ms/step - loss: 0.0099 - mae: 0.0792 - val_loss: 0.0093 - val_mae: 0.0762\n",
      "Epoch 9/20\n",
      "300/300 [==============================] - 4s 14ms/step - loss: 0.0095 - mae: 0.0766 - val_loss: 0.0086 - val_mae: 0.0733\n",
      "Epoch 10/20\n",
      "300/300 [==============================] - 4s 14ms/step - loss: 0.0092 - mae: 0.0757 - val_loss: 0.0087 - val_mae: 0.0724\n",
      "Epoch 11/20\n",
      "300/300 [==============================] - 4s 14ms/step - loss: 0.0093 - mae: 0.0759 - val_loss: 0.0080 - val_mae: 0.0699\n",
      "Epoch 12/20\n",
      "300/300 [==============================] - 4s 14ms/step - loss: 0.0085 - mae: 0.0724 - val_loss: 0.0084 - val_mae: 0.0731\n",
      "Epoch 13/20\n",
      "300/300 [==============================] - 4s 14ms/step - loss: 0.0087 - mae: 0.0739 - val_loss: 0.0069 - val_mae: 0.0666\n",
      "Epoch 14/20\n",
      "300/300 [==============================] - 5s 15ms/step - loss: 0.0088 - mae: 0.0733 - val_loss: 0.0076 - val_mae: 0.0686\n",
      "Epoch 15/20\n",
      "300/300 [==============================] - 4s 14ms/step - loss: 0.0090 - mae: 0.0742 - val_loss: 0.0089 - val_mae: 0.0740\n",
      "Epoch 16/20\n",
      "300/300 [==============================] - 4s 14ms/step - loss: 0.0088 - mae: 0.0739 - val_loss: 0.0082 - val_mae: 0.0715\n",
      "Epoch 17/20\n",
      "300/300 [==============================] - 4s 14ms/step - loss: 0.0091 - mae: 0.0751 - val_loss: 0.0087 - val_mae: 0.0741\n",
      "Epoch 18/20\n",
      "300/300 [==============================] - 5s 16ms/step - loss: 0.0076 - mae: 0.0686 - val_loss: 0.0080 - val_mae: 0.0711\n",
      "Epoch 19/20\n",
      "300/300 [==============================] - 4s 14ms/step - loss: 0.0083 - mae: 0.0714 - val_loss: 0.0093 - val_mae: 0.0768\n",
      "Epoch 20/20\n",
      "300/300 [==============================] - 4s 15ms/step - loss: 0.0092 - mae: 0.0744 - val_loss: 0.0079 - val_mae: 0.0692\n"
     ]
    }
   ],
   "source": [
    "history_3 = modelLearning(TrainGen,ValGen,model_3,20)"
   ]
  },
  {
   "cell_type": "code",
   "execution_count": 133,
   "metadata": {},
   "outputs": [
    {
     "name": "stdout",
     "output_type": "stream",
     "text": [
      "500/500 [==============================] - 4s 8ms/step - loss: 0.0079 - mae: 0.0698\n"
     ]
    },
    {
     "data": {
      "text/plain": [
       "[0.007945071905851364, 0.06978649646043777]"
      ]
     },
     "execution_count": 133,
     "metadata": {},
     "output_type": "execute_result"
    }
   ],
   "source": [
    "model_3.evaluate(TestGen, steps = 500)"
   ]
  },
  {
   "cell_type": "code",
   "execution_count": 98,
   "metadata": {},
   "outputs": [
    {
     "data": {
      "image/png": "[encoded data removed]",
      "text/plain": [
       "<Figure size 432x288 with 1 Axes>"
      ]
     },
     "metadata": {
      "needs_background": "light"
     },
     "output_type": "display_data"
    }
   ],
   "source": [
    "plotHistory(history_3)"
   ]
  },
  {
   "cell_type": "code",
   "execution_count": 136,
   "metadata": {},
   "outputs": [
    {
     "data": {
      "image/png": "[encoded data removed]",
      "text/plain": [
       "<Figure size 432x288 with 1 Axes>"
      ]
     },
     "metadata": {
      "needs_background": "light"
     },
     "output_type": "display_data"
    }
   ],
   "source": [
    "plotGraph(model_3)"
   ]
  },
  {
   "cell_type": "code",
   "execution_count": 108,
   "metadata": {},
   "outputs": [],
   "source": [
    "def createRNNmodelplus():\n",
    "    model = Sequential() \n",
    "    model.add(GRU(32, \n",
    "                  dropout = 0.1, \n",
    "                  recurrent_dropout = 0.4, \n",
    "                  input_shape = (None, 1),\n",
    "                  return_sequences=True)) \n",
    "    model.add(GRU(64, dropout = 0.1, input_shape = (None, 1))) \n",
    "    model.add(Dense(1,activation = \"sigmoid\")) \n",
    "    model.summary() \n",
    "    return model"
   ]
  },
  {
   "cell_type": "code",
   "execution_count": 113,
   "metadata": {},
   "outputs": [
    {
     "name": "stdout",
     "output_type": "stream",
     "text": [
      "WARNING:tensorflow:Layer gru_8 will not use cuDNN kernel since it doesn't meet the cuDNN kernel criteria. It will use generic GPU kernel as fallback when running on GPU\n",
      "WARNING:tensorflow:Layer gru_9 will not use cuDNN kernel since it doesn't meet the cuDNN kernel criteria. It will use generic GPU kernel as fallback when running on GPU\n",
      "Model: \"sequential_24\"\n",
      "_________________________________________________________________\n",
      "Layer (type)                 Output Shape              Param #   \n",
      "=================================================================\n",
      "gru_8 (GRU)                  (None, None, 32)          3360      \n",
      "_________________________________________________________________\n",
      "gru_9 (GRU)                  (None, 64)                18816     \n",
      "_________________________________________________________________\n",
      "dense_44 (Dense)             (None, 1)                 65        \n",
      "=================================================================\n",
      "Total params: 22,241\n",
      "Trainable params: 22,241\n",
      "Non-trainable params: 0\n",
      "_________________________________________________________________\n"
     ]
    }
   ],
   "source": [
    "model_4 = createRNNmodelplus()"
   ]
  },
  {
   "cell_type": "code",
   "execution_count": 114,
   "metadata": {},
   "outputs": [],
   "source": [
    "model_4.compile(loss='mse',\n",
    "              optimizer = 'rmsprop',\n",
    "              metrics=[\"mae\"])"
   ]
  },
  {
   "cell_type": "code",
   "execution_count": 115,
   "metadata": {
    "scrolled": true
   },
   "outputs": [
    {
     "name": "stdout",
     "output_type": "stream",
     "text": [
      "Epoch 1/20\n",
      "300/300 [==============================] - 32s 106ms/step - loss: 0.0216 - mae: 0.1173 - val_loss: 0.0174 - val_mae: 0.1055\n",
      "Epoch 2/20\n",
      "300/300 [==============================] - 32s 108ms/step - loss: 0.0169 - mae: 0.1039 - val_loss: 0.0104 - val_mae: 0.0830\n",
      "Epoch 3/20\n",
      "300/300 [==============================] - 32s 108ms/step - loss: 0.0152 - mae: 0.0964 - val_loss: 0.0099 - val_mae: 0.0784\n",
      "Epoch 4/20\n",
      "300/300 [==============================] - 33s 110ms/step - loss: 0.0129 - mae: 0.0887 - val_loss: 0.0080 - val_mae: 0.0711\n",
      "Epoch 5/20\n",
      "300/300 [==============================] - 33s 110ms/step - loss: 0.0119 - mae: 0.0847 - val_loss: 0.0091 - val_mae: 0.0754\n",
      "Epoch 6/20\n",
      "300/300 [==============================] - 33s 110ms/step - loss: 0.0111 - mae: 0.0822 - val_loss: 0.0105 - val_mae: 0.0814\n",
      "Epoch 7/20\n",
      "300/300 [==============================] - 33s 110ms/step - loss: 0.0119 - mae: 0.0851 - val_loss: 0.0079 - val_mae: 0.0691\n",
      "Epoch 8/20\n",
      "300/300 [==============================] - 32s 108ms/step - loss: 0.0108 - mae: 0.0806 - val_loss: 0.0083 - val_mae: 0.0716\n",
      "Epoch 9/20\n",
      "300/300 [==============================] - 33s 108ms/step - loss: 0.0103 - mae: 0.0796 - val_loss: 0.0085 - val_mae: 0.0720\n",
      "Epoch 10/20\n",
      "300/300 [==============================] - 33s 110ms/step - loss: 0.0092 - mae: 0.0741 - val_loss: 0.0112 - val_mae: 0.0832\n",
      "Epoch 11/20\n",
      "300/300 [==============================] - 33s 111ms/step - loss: 0.0101 - mae: 0.0790 - val_loss: 0.0081 - val_mae: 0.0707\n",
      "Epoch 12/20\n",
      "300/300 [==============================] - 33s 111ms/step - loss: 0.0095 - mae: 0.0764 - val_loss: 0.0083 - val_mae: 0.0728\n",
      "Epoch 13/20\n",
      "300/300 [==============================] - 33s 109ms/step - loss: 0.0088 - mae: 0.0736 - val_loss: 0.0073 - val_mae: 0.0678\n",
      "Epoch 14/20\n",
      "300/300 [==============================] - 33s 109ms/step - loss: 0.0092 - mae: 0.0747 - val_loss: 0.0072 - val_mae: 0.0663\n",
      "Epoch 15/20\n",
      "300/300 [==============================] - 33s 109ms/step - loss: 0.0089 - mae: 0.0738 - val_loss: 0.0077 - val_mae: 0.0657\n",
      "Epoch 16/20\n",
      "300/300 [==============================] - 33s 109ms/step - loss: 0.0094 - mae: 0.0752 - val_loss: 0.0091 - val_mae: 0.0763\n",
      "Epoch 17/20\n",
      "300/300 [==============================] - 34s 113ms/step - loss: 0.0094 - mae: 0.0744 - val_loss: 0.0070 - val_mae: 0.0653\n",
      "Epoch 18/20\n",
      "300/300 [==============================] - 33s 109ms/step - loss: 0.0086 - mae: 0.0719 - val_loss: 0.0064 - val_mae: 0.0614\n",
      "Epoch 19/20\n",
      "300/300 [==============================] - 33s 109ms/step - loss: 0.0086 - mae: 0.0719 - val_loss: 0.0099 - val_mae: 0.0768\n",
      "Epoch 20/20\n",
      "300/300 [==============================] - 33s 111ms/step - loss: 0.0088 - mae: 0.0729 - val_loss: 0.0071 - val_mae: 0.0663\n"
     ]
    }
   ],
   "source": [
    "history_4 = modelLearning(TrainGen,ValGen,model_4,20)"
   ]
  },
  {
   "cell_type": "code",
   "execution_count": 116,
   "metadata": {},
   "outputs": [
    {
     "name": "stdout",
     "output_type": "stream",
     "text": [
      "500/500 [==============================] - 6s 11ms/step - loss: 0.0072 - mae: 0.0670\n"
     ]
    },
    {
     "data": {
      "text/plain": [
       "[0.007208918686956167, 0.06699986010789871]"
      ]
     },
     "execution_count": 116,
     "metadata": {},
     "output_type": "execute_result"
    }
   ],
   "source": [
    "model_4.evaluate(TestGen, steps = 500)"
   ]
  },
  {
   "cell_type": "code",
   "execution_count": 120,
   "metadata": {},
   "outputs": [
    {
     "data": {
      "image/png": "[encoded data removed]",
      "text/plain": [
       "<Figure size 432x288 with 1 Axes>"
      ]
     },
     "metadata": {
      "needs_background": "light"
     },
     "output_type": "display_data"
    }
   ],
   "source": [
    "plotHistory(history_4)"
   ]
  },
  {
   "cell_type": "code",
   "execution_count": 144,
   "metadata": {},
   "outputs": [
    {
     "data": {
      "image/png": "[encoded data removed]",
      "text/plain": [
       "<Figure size 432x288 with 1 Axes>"
      ]
     },
     "metadata": {
      "needs_background": "light"
     },
     "output_type": "display_data"
    }
   ],
   "source": [
    "plotGraph(model_4)"
   ]
  },
  {
   "cell_type": "markdown",
   "metadata": {},
   "source": [
    "# Вывод\n",
    "### Усложненная модель рекурентной сети дает незначительно лучшее качество, чем однослойная рекурентная сеть, однако и это значение не превышает до обычного многослойного перцептрона\n",
    "### В ходе работы были разработаны и исследованны модели для прогнозированния временного ряда, все построенные модели дают достаточно хорошее качество и прогнозируемое значение практически совпадает с реальным\n",
    "### Стоит также отметить, что самое лучшее качество пргогнозирования показала модель многослойного перцептрона в виду особенности задачи прогнозирвоания случайоного временного ряда. Причина, по которой сверточаня и рекурентная нейронные сети оказались чуть хуже, заключается в отсутсвии каких-либо существенных закономерностях в данных, критичных для данных видов сетей."
   ]
  },
  {
   "cell_type": "code",
   "execution_count": null,
   "metadata": {},
   "outputs": [],
   "source": []
  }
 ],
 "metadata": {
  "kernelspec": {
   "display_name": "Python 3",
   "language": "python",
   "name": "python3"
  },
  "language_info": {
   "codemirror_mode": {
    "name": "ipython",
    "version": 3
   },
   "file_extension": ".py",
   "mimetype": "text/x-python",
   "name": "python",
   "nbconvert_exporter": "python",
   "pygments_lexer": "ipython3",
   "version": "3.8.5"
  }
 },
 "nbformat": 4,
 "nbformat_minor": 4
}
