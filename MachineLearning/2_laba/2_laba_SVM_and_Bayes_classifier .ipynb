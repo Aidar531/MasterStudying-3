{
 "cells": [
  {
   "cell_type": "code",
   "execution_count": 2,
   "metadata": {},
   "outputs": [],
   "source": [
    "import pandas as pd\n",
    "import numpy as np \n",
    "import matplotlib.pyplot as plt \n",
    "from collections import Counter \n",
    "from sklearn import feature_extraction \n",
    "from sklearn import model_selection \n",
    "from sklearn.naive_bayes import MultinomialNB \n",
    "from sklearn import metrics \n",
    "from sklearn.model_selection import KFold\n",
    "from sklearn.model_selection import GridSearchCV\n",
    "from sklearn.metrics import confusion_matrix \n",
    "from sklearn.metrics import roc_curve \n",
    "from sklearn.metrics import auc \n",
    "from sklearn.svm import SVC "
   ]
  },
  {
   "cell_type": "code",
   "execution_count": 3,
   "metadata": {},
   "outputs": [
    {
     "data": {
      "text/html": [
       "<div>\n",
       "<style scoped>\n",
       "    .dataframe tbody tr th:only-of-type {\n",
       "        vertical-align: middle;\n",
       "    }\n",
       "\n",
       "    .dataframe tbody tr th {\n",
       "        vertical-align: top;\n",
       "    }\n",
       "\n",
       "    .dataframe thead th {\n",
       "        text-align: right;\n",
       "    }\n",
       "</style>\n",
       "<table border=\"1\" class=\"dataframe\">\n",
       "  <thead>\n",
       "    <tr style=\"text-align: right;\">\n",
       "      <th></th>\n",
       "      <th>v1</th>\n",
       "      <th>v2</th>\n",
       "    </tr>\n",
       "  </thead>\n",
       "  <tbody>\n",
       "    <tr>\n",
       "      <th>0</th>\n",
       "      <td>ham</td>\n",
       "      <td>Go until jurong point, crazy.. Available only ...</td>\n",
       "    </tr>\n",
       "    <tr>\n",
       "      <th>1</th>\n",
       "      <td>ham</td>\n",
       "      <td>Ok lar... Joking wif u oni...</td>\n",
       "    </tr>\n",
       "    <tr>\n",
       "      <th>2</th>\n",
       "      <td>spam</td>\n",
       "      <td>Free entry in 2 a wkly comp to win FA Cup fina...</td>\n",
       "    </tr>\n",
       "    <tr>\n",
       "      <th>3</th>\n",
       "      <td>ham</td>\n",
       "      <td>U dun say so early hor... U c already then say...</td>\n",
       "    </tr>\n",
       "    <tr>\n",
       "      <th>4</th>\n",
       "      <td>ham</td>\n",
       "      <td>Nah I don't think he goes to usf, he lives aro...</td>\n",
       "    </tr>\n",
       "  </tbody>\n",
       "</table>\n",
       "</div>"
      ],
      "text/plain": [
       "     v1                                                 v2\n",
       "0   ham  Go until jurong point, crazy.. Available only ...\n",
       "1   ham                      Ok lar... Joking wif u oni...\n",
       "2  spam  Free entry in 2 a wkly comp to win FA Cup fina...\n",
       "3   ham  U dun say so early hor... U c already then say...\n",
       "4   ham  Nah I don't think he goes to usf, he lives aro..."
      ]
     },
     "execution_count": 3,
     "metadata": {},
     "output_type": "execute_result"
    }
   ],
   "source": [
    "data = pd.read_csv('spam.csv',encoding='ISO-8859-1').drop(['Unnamed: 2','Unnamed: 3','Unnamed: 4'],axis=1)\n",
    "data.head()"
   ]
  },
  {
   "cell_type": "code",
   "execution_count": 4,
   "metadata": {},
   "outputs": [
    {
     "data": {
      "text/plain": [
       "Text(0, 0.5, '')"
      ]
     },
     "execution_count": 4,
     "metadata": {},
     "output_type": "execute_result"
    },
    {
     "data": {
      "image/png": "[encoded data removed]",
      "text/plain": [
       "<Figure size 432x288 with 1 Axes>"
      ]
     },
     "metadata": {},
     "output_type": "display_data"
    }
   ],
   "source": [
    "y = data[\"v1\"]\n",
    "X = data['v2']\n",
    "\n",
    "target = pd.value_counts(y)\n",
    "ns = str(round(target['ham']/(target['ham']+target['spam'])*100,2))\n",
    "s = str(round(target['spam']/(target['ham']+target['spam'])*100,2))\n",
    "target = target.rename({'ham':'ham '+ns+' %','spam':'spam ' +s+ ' %'})\n",
    "target.plot(kind = 'pie') \n",
    "plt.title('pie_chart') \n",
    "plt.ylabel('') \n"
   ]
  },
  {
   "cell_type": "code",
   "execution_count": 5,
   "metadata": {},
   "outputs": [
    {
     "data": {
      "image/png": "[encoded data removed]",
      "text/plain": [
       "<Figure size 432x288 with 1 Axes>"
      ]
     },
     "metadata": {
      "needs_background": "light"
     },
     "output_type": "display_data"
    }
   ],
   "source": [
    "ham_words = Counter(' '.join(data[data['v1']=='ham']['v2']).split()).most_common(20) \n",
    "df_ham_words = pd.DataFrame.from_dict(ham_words) \n",
    "df_ham_words = df_ham_words.rename(columns={0: 'words in non‐spam',1:'count'}) \n",
    "df_ham_words.plot.bar(x= 'words in non‐spam',legend = False)\n",
    "y_pos = np.arange(len(df_ham_words['words in non‐spam'])) \n",
    "plt.xticks(y_pos, df_ham_words['words in non‐spam']) \n",
    "plt.title('more frequent words in non‐spam messages') \n",
    "plt.xlabel('words') \n",
    "plt.ylabel('number') \n",
    "plt.show() "
   ]
  },
  {
   "cell_type": "code",
   "execution_count": 6,
   "metadata": {},
   "outputs": [],
   "source": [
    "tokenizer = feature_extraction.text.CountVectorizer(stop_words = 'english') \n",
    "X = tokenizer.fit_transform(data['v2']) \n",
    "\n",
    "y = pd.get_dummies(data['v1'])[\"spam\"]\n",
    "X_train, X_test, y_train, y_test = model_selection.train_test_split(X, y, test_size = 0.33,shuffle = True) "
   ]
  },
  {
   "cell_type": "markdown",
   "metadata": {},
   "source": [
    "# Наивный байесовский классификатор"
   ]
  },
  {
   "cell_type": "code",
   "execution_count": 7,
   "metadata": {},
   "outputs": [],
   "source": [
    "alpha_range = np.arange(0.1, 20, 0.1) \n",
    "train_score = []\n",
    "test_score = []\n",
    "test_recall = []\n",
    "test_precision = []\n",
    "\n",
    "\n",
    "for i in alpha_range:\n",
    "    model = MultinomialNB(alpha = i) \n",
    "    model.fit(X_train, y_train) \n",
    "    y_predict = model.predict(X_train)\n",
    "    train_score.append(metrics.accuracy_score(y_train, y_predict))\n",
    "    y_predict = model.predict(X_test)\n",
    "    test_score.append(metrics.accuracy_score(y_test, y_predict))\n",
    "    test_recall.append(metrics.recall_score(y_test, y_predict))\n",
    "    test_precision.append(metrics.precision_score(y_test, y_predict))"
   ]
  },
  {
   "cell_type": "code",
   "execution_count": 8,
   "metadata": {},
   "outputs": [
    {
     "name": "stdout",
     "output_type": "stream",
     "text": [
      "{'alpha': 3.9000000000000004}\n",
      "0.9838478073600567\n"
     ]
    }
   ],
   "source": [
    "alpha = {'alpha': np.arange(0.1, 20, 0.1)}\n",
    "kf = KFold(n_splits=5,shuffle=True)\n",
    "model = MultinomialNB()\n",
    "gs = GridSearchCV(model, alpha, scoring='accuracy', cv=kf)\n",
    "gs.fit(X, y)\n",
    "print(gs.best_params_)\n",
    "print(gs.best_score_)"
   ]
  },
  {
   "cell_type": "code",
   "execution_count": 9,
   "metadata": {},
   "outputs": [],
   "source": [
    "matrix  =  np.matrix(np.c_[alpha_range,  train_score,  test_score,  test_recall, \n",
    "test_precision]) \n",
    "models = pd.DataFrame(data = matrix,  columns =  ['alpha',  'train accuracy', \n",
    "'test accuracy', 'test recall', 'test precision']) "
   ]
  },
  {
   "cell_type": "code",
   "execution_count": 10,
   "metadata": {},
   "outputs": [],
   "source": [
    "best_value = models['test precision'].max()\n",
    "# best_index = models['test precision'].idxmax() \n",
    "best_index = models['test accuracy'].idxmax() "
   ]
  },
  {
   "cell_type": "code",
   "execution_count": 11,
   "metadata": {},
   "outputs": [
    {
     "data": {
      "text/plain": [
       "<matplotlib.legend.Legend at 0x7f8ad2d1e710>"
      ]
     },
     "execution_count": 11,
     "metadata": {},
     "output_type": "execute_result"
    },
    {
     "data": {
      "image/png": "[encoded data removed]",
      "text/plain": [
       "<Figure size 720x360 with 1 Axes>"
      ]
     },
     "metadata": {
      "needs_background": "light"
     },
     "output_type": "display_data"
    }
   ],
   "source": [
    "model = MultinomialNB(alpha = alpha_range[best_index]) \n",
    "model.fit(X_train, y_train) \n",
    "\n",
    "plt.figure(figsize = [10,5])\n",
    "plt.plot(alpha_range,train_score)\n",
    "plt.plot(alpha_range,test_score)\n",
    "plt.grid(\"on\")\n",
    "plt.xlabel('alpha')\n",
    "plt.ylabel('accuracy')\n",
    "plt.legend([\"acc_train\",\"acc_test\"])"
   ]
  },
  {
   "cell_type": "code",
   "execution_count": 12,
   "metadata": {},
   "outputs": [
    {
     "data": {
      "text/html": [
       "<div>\n",
       "<style scoped>\n",
       "    .dataframe tbody tr th:only-of-type {\n",
       "        vertical-align: middle;\n",
       "    }\n",
       "\n",
       "    .dataframe tbody tr th {\n",
       "        vertical-align: top;\n",
       "    }\n",
       "\n",
       "    .dataframe thead th {\n",
       "        text-align: right;\n",
       "    }\n",
       "</style>\n",
       "<table border=\"1\" class=\"dataframe\">\n",
       "  <thead>\n",
       "    <tr style=\"text-align: right;\">\n",
       "      <th></th>\n",
       "      <th>predicted  ham</th>\n",
       "      <th>predicted spam</th>\n",
       "    </tr>\n",
       "  </thead>\n",
       "  <tbody>\n",
       "    <tr>\n",
       "      <th>actual ham</th>\n",
       "      <td>1578</td>\n",
       "      <td>14</td>\n",
       "    </tr>\n",
       "    <tr>\n",
       "      <th>actual spam</th>\n",
       "      <td>15</td>\n",
       "      <td>232</td>\n",
       "    </tr>\n",
       "  </tbody>\n",
       "</table>\n",
       "</div>"
      ],
      "text/plain": [
       "             predicted  ham  predicted spam\n",
       "actual ham             1578              14\n",
       "actual spam              15             232"
      ]
     },
     "execution_count": 12,
     "metadata": {},
     "output_type": "execute_result"
    }
   ],
   "source": [
    "confusion_matrix = confusion_matrix(y_test, model.predict(X_test)) \n",
    "pd.DataFrame(data  =  confusion_matrix,  columns  =  ['predicted  ham', \n",
    "'predicted spam'], index = ['actual ham', 'actual spam']) "
   ]
  },
  {
   "cell_type": "code",
   "execution_count": 13,
   "metadata": {},
   "outputs": [
    {
     "name": "stdout",
     "output_type": "stream",
     "text": [
      "0.9881619636644762\n"
     ]
    }
   ],
   "source": [
    "y_pred_pr = model.predict_proba(X_test)[:,1] \n",
    "fpr, tpr, threshold = metrics. roc_curve (y_test, y_pred_pr) \n",
    "roc_auc = metrics.auc(fpr, tpr) \n",
    "print(roc_auc)"
   ]
  },
  {
   "cell_type": "code",
   "execution_count": 14,
   "metadata": {},
   "outputs": [
    {
     "data": {
      "image/png": "[encoded data removed]",
      "text/plain": [
       "<Figure size 432x288 with 1 Axes>"
      ]
     },
     "metadata": {
      "needs_background": "light"
     },
     "output_type": "display_data"
    }
   ],
   "source": [
    "plt.title('Receiver Operating Characteristic') \n",
    "plt.plot(fpr, tpr, 'b', label = 'AUC = %0.2f' % roc_auc) \n",
    "plt.legend(loc = 'lower right') \n",
    "plt.plot([0, 1], [0, 1],'r--') \n",
    "plt.xlim([-0.1, 1.1]) \n",
    "plt.ylim([0, 1.1]) \n",
    "plt.ylabel('True Positive Rate') \n",
    "plt.xlabel('False Positive Rate') \n",
    "plt.grid('on') \n",
    "plt.show() "
   ]
  },
  {
   "cell_type": "markdown",
   "metadata": {},
   "source": [
    "# Вывод:\n",
    "## В данном части был реализован наивный байесовский алгоритм. Сглаживающий коэфициент alfa отвечающий за учитывание отсутствующие в обучающих выборках данных, и предотвращают нулевые вероятности в дальнейших вычислениях.\n",
    "## На графике точности от alfa видно, как точность достигается максимума при alfa = 0.3"
   ]
  },
  {
   "cell_type": "markdown",
   "metadata": {},
   "source": [
    "# SVM"
   ]
  },
  {
   "cell_type": "code",
   "execution_count": 15,
   "metadata": {},
   "outputs": [
    {
     "name": "stdout",
     "output_type": "stream",
     "text": [
      "{'C': 2.21}\n",
      "0.9800800251185482\n"
     ]
    }
   ],
   "source": [
    "C= {'C': np.arange(0.01, 3, 0.1)}\n",
    "kf = KFold(n_splits=5,shuffle=True)\n",
    "model = SVC()\n",
    "gs = GridSearchCV(model, C, scoring='accuracy', cv=kf)\n",
    "gs.fit(X, y)\n",
    "print(gs.best_params_)\n",
    "print(gs.best_score_)"
   ]
  },
  {
   "cell_type": "code",
   "execution_count": 16,
   "metadata": {},
   "outputs": [
    {
     "name": "stderr",
     "output_type": "stream",
     "text": [
      "/home/aidar/anaconda3/lib/python3.7/site-packages/sklearn/metrics/_classification.py:1221: UndefinedMetricWarning: Precision is ill-defined and being set to 0.0 due to no predicted samples. Use `zero_division` parameter to control this behavior.\n",
      "  _warn_prf(average, modifier, msg_start, len(result))\n"
     ]
    }
   ],
   "source": [
    "c_range = np.arange(0.01, 3, 0.1) \n",
    "train_score = []\n",
    "test_score = []\n",
    "test_recall = []\n",
    "test_precision = []\n",
    "\n",
    "\n",
    "for i in c_range:\n",
    "    model = SVC(C = i) \n",
    "    model.fit(X_train, y_train) \n",
    "    y_predict = model.predict(X_train)\n",
    "    train_score.append(metrics.accuracy_score(y_train, y_predict))\n",
    "    y_predict = model.predict(X_test)\n",
    "    test_score.append(metrics.accuracy_score(y_test, y_predict))\n",
    "    test_recall.append(metrics.recall_score(y_test, y_predict))\n",
    "    test_precision.append(metrics.precision_score(y_test, y_predict))\n"
   ]
  },
  {
   "cell_type": "code",
   "execution_count": 17,
   "metadata": {},
   "outputs": [],
   "source": [
    "matrix  =  np.matrix(np.c_[c_range,  train_score,  test_score,  test_recall, \n",
    "test_precision]) \n",
    "models = pd.DataFrame(data = matrix,  columns =  ['C',  'train accuracy', \n",
    "'test accuracy', 'test recall', 'test precision']) \n"
   ]
  },
  {
   "cell_type": "code",
   "execution_count": 18,
   "metadata": {},
   "outputs": [],
   "source": [
    "best_value = models['test precision'].max()\n",
    "# best_index = models['test precision'].idxmax() \n",
    "best_index = models['test accuracy'].idxmax()"
   ]
  },
  {
   "cell_type": "code",
   "execution_count": 19,
   "metadata": {},
   "outputs": [
    {
     "data": {
      "text/plain": [
       "<matplotlib.legend.Legend at 0x7f8ad2f5d250>"
      ]
     },
     "execution_count": 19,
     "metadata": {},
     "output_type": "execute_result"
    },
    {
     "data": {
      "image/png": "[encoded data removed]",
      "text/plain": [
       "<Figure size 720x360 with 1 Axes>"
      ]
     },
     "metadata": {
      "needs_background": "light"
     },
     "output_type": "display_data"
    }
   ],
   "source": [
    "model = SVC(C = c_range[best_index],probability = True) \n",
    "model.fit(X_train, y_train) \n",
    "\n",
    "plt.figure(figsize = [10,5])\n",
    "plt.plot(c_range,train_score)\n",
    "plt.plot(c_range,test_score)\n",
    "plt.grid(\"on\")\n",
    "plt.xlabel('C')\n",
    "plt.ylabel('accuracy')\n",
    "plt.legend([\"acc_train\",\"acc_test\"])"
   ]
  },
  {
   "cell_type": "code",
   "execution_count": 21,
   "metadata": {},
   "outputs": [
    {
     "ename": "TypeError",
     "evalue": "'numpy.ndarray' object is not callable",
     "output_type": "error",
     "traceback": [
      "\u001b[0;31m---------------------------------------------------------------------------\u001b[0m",
      "\u001b[0;31mTypeError\u001b[0m                                 Traceback (most recent call last)",
      "\u001b[0;32m<ipython-input-21-bf64452ae594>\u001b[0m in \u001b[0;36m<module>\u001b[0;34m\u001b[0m\n\u001b[0;32m----> 1\u001b[0;31m \u001b[0mconf_matrix\u001b[0m \u001b[0;34m=\u001b[0m \u001b[0mconfusion_matrix\u001b[0m\u001b[0;34m(\u001b[0m\u001b[0my_test\u001b[0m\u001b[0;34m,\u001b[0m \u001b[0mmodel\u001b[0m\u001b[0;34m.\u001b[0m\u001b[0mpredict\u001b[0m\u001b[0;34m(\u001b[0m\u001b[0mX_test\u001b[0m\u001b[0;34m)\u001b[0m\u001b[0;34m)\u001b[0m\u001b[0;34m\u001b[0m\u001b[0;34m\u001b[0m\u001b[0m\n\u001b[0m\u001b[1;32m      2\u001b[0m pd.DataFrame(data  =  conf_matrix,  columns  =  ['predicted  ham', \n\u001b[1;32m      3\u001b[0m 'predicted spam'], index = ['actual ham', 'actual spam']) \n",
      "\u001b[0;31mTypeError\u001b[0m: 'numpy.ndarray' object is not callable"
     ]
    }
   ],
   "source": [
    "conf_matrix = confusion_matrix(y_test, model.predict(X_test)) \n",
    "pd.DataFrame(data  =  conf_matrix,  columns  =  ['predicted  ham', \n",
    "'predicted spam'], index = ['actual ham', 'actual spam']) "
   ]
  },
  {
   "cell_type": "code",
   "execution_count": 22,
   "metadata": {},
   "outputs": [
    {
     "name": "stdout",
     "output_type": "stream",
     "text": [
      "0.9946773340386142\n"
     ]
    }
   ],
   "source": [
    "y_pred_pr = model.predict_proba(X_test)[:,1] \n",
    "fpr, tpr, threshold = metrics. roc_curve (y_test, y_pred_pr) \n",
    "roc_auc = metrics.auc(fpr, tpr) \n",
    "print(roc_auc)"
   ]
  },
  {
   "cell_type": "code",
   "execution_count": 23,
   "metadata": {},
   "outputs": [
    {
     "data": {
      "image/png": "[encoded data removed]",
      "text/plain": [
       "<Figure size 432x288 with 1 Axes>"
      ]
     },
     "metadata": {
      "needs_background": "light"
     },
     "output_type": "display_data"
    }
   ],
   "source": [
    "plt.title('Receiver Operating Characteristic') \n",
    "plt.plot(fpr, tpr, 'b', label = 'AUC = %0.2f' % roc_auc) \n",
    "plt.legend(loc = 'lower right') \n",
    "plt.plot([0, 1], [0, 1],'r--') \n",
    "plt.xlim([-0.1, 1.1]) \n",
    "plt.ylim([0, 1.1]) \n",
    "plt.ylabel('True Positive Rate') \n",
    "plt.xlabel('False Positive Rate') \n",
    "plt.grid('on') \n",
    "plt.show() "
   ]
  },
  {
   "cell_type": "code",
   "execution_count": null,
   "metadata": {},
   "outputs": [],
   "source": []
  }
 ],
 "metadata": {
  "kernelspec": {
   "display_name": "Python 3",
   "language": "python",
   "name": "python3"
  },
  "language_info": {
   "codemirror_mode": {
    "name": "ipython",
    "version": 3
   },
   "file_extension": ".py",
   "mimetype": "text/x-python",
   "name": "python",
   "nbconvert_exporter": "python",
   "pygments_lexer": "ipython3",
   "version": "3.7.7"
  }
 },
 "nbformat": 4,
 "nbformat_minor": 4
}
