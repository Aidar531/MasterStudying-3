{
 "cells": [
  {
   "cell_type": "code",
   "execution_count": 3,
   "metadata": {},
   "outputs": [],
   "source": [
    "import pandas as pd\n",
    "import matplotlib.pyplot as plt\n",
    "import seaborn as sns\n",
    "import numpy as np\n",
    "from sklearn.tree import DecisionTreeClassifier, plot_tree\n",
    "from sklearn.ensemble import RandomForestClassifier\n",
    "from catboost import CatBoostClassifier\n",
    "from sklearn.model_selection import train_test_split\n",
    "from sklearn.preprocessing import LabelEncoder\n",
    "from category_encoders import TargetEncoder\n",
    "from sklearn.model_selection import cross_val_score\n",
    "from sklearn.model_selection import KFold\n",
    "from sklearn.metrics import confusion_matrix\n",
    "from catboost import CatBoostClassifier\n",
    "from sklearn.preprocessing import StandardScaler\n",
    "from tensorflow.python.keras.utils import np_utils\n",
    "from tensorflow.keras.models import Sequential\n",
    "from tensorflow.keras.layers import Dense, Activation, Dropout"
   ]
  },
  {
   "cell_type": "code",
   "execution_count": 2,
   "metadata": {},
   "outputs": [
    {
     "data": {
      "text/html": [
       "<div>\n",
       "<style scoped>\n",
       "    .dataframe tbody tr th:only-of-type {\n",
       "        vertical-align: middle;\n",
       "    }\n",
       "\n",
       "    .dataframe tbody tr th {\n",
       "        vertical-align: top;\n",
       "    }\n",
       "\n",
       "    .dataframe thead th {\n",
       "        text-align: right;\n",
       "    }\n",
       "</style>\n",
       "<table border=\"1\" class=\"dataframe\">\n",
       "  <thead>\n",
       "    <tr style=\"text-align: right;\">\n",
       "      <th></th>\n",
       "      <th>age</th>\n",
       "      <th>workclass</th>\n",
       "      <th>fnlwgt</th>\n",
       "      <th>education</th>\n",
       "      <th>education_num</th>\n",
       "      <th>marital_status</th>\n",
       "      <th>occupation</th>\n",
       "      <th>relationship</th>\n",
       "      <th>race</th>\n",
       "      <th>sex</th>\n",
       "      <th>capital_gain</th>\n",
       "      <th>capital_loss</th>\n",
       "      <th>hours_per_week</th>\n",
       "      <th>native_country</th>\n",
       "      <th>income</th>\n",
       "    </tr>\n",
       "  </thead>\n",
       "  <tbody>\n",
       "    <tr>\n",
       "      <th>0</th>\n",
       "      <td>39</td>\n",
       "      <td>State-gov</td>\n",
       "      <td>77516</td>\n",
       "      <td>Bachelors</td>\n",
       "      <td>13</td>\n",
       "      <td>Never-married</td>\n",
       "      <td>Adm-clerical</td>\n",
       "      <td>Not-in-family</td>\n",
       "      <td>White</td>\n",
       "      <td>Male</td>\n",
       "      <td>2174</td>\n",
       "      <td>0</td>\n",
       "      <td>40</td>\n",
       "      <td>United-States</td>\n",
       "      <td>&lt;=50K</td>\n",
       "    </tr>\n",
       "    <tr>\n",
       "      <th>1</th>\n",
       "      <td>50</td>\n",
       "      <td>Self-emp-not-inc</td>\n",
       "      <td>83311</td>\n",
       "      <td>Bachelors</td>\n",
       "      <td>13</td>\n",
       "      <td>Married-civ-spouse</td>\n",
       "      <td>Exec-managerial</td>\n",
       "      <td>Husband</td>\n",
       "      <td>White</td>\n",
       "      <td>Male</td>\n",
       "      <td>0</td>\n",
       "      <td>0</td>\n",
       "      <td>13</td>\n",
       "      <td>United-States</td>\n",
       "      <td>&lt;=50K</td>\n",
       "    </tr>\n",
       "    <tr>\n",
       "      <th>2</th>\n",
       "      <td>38</td>\n",
       "      <td>Private</td>\n",
       "      <td>215646</td>\n",
       "      <td>HS-grad</td>\n",
       "      <td>9</td>\n",
       "      <td>Divorced</td>\n",
       "      <td>Handlers-cleaners</td>\n",
       "      <td>Not-in-family</td>\n",
       "      <td>White</td>\n",
       "      <td>Male</td>\n",
       "      <td>0</td>\n",
       "      <td>0</td>\n",
       "      <td>40</td>\n",
       "      <td>United-States</td>\n",
       "      <td>&lt;=50K</td>\n",
       "    </tr>\n",
       "    <tr>\n",
       "      <th>3</th>\n",
       "      <td>53</td>\n",
       "      <td>Private</td>\n",
       "      <td>234721</td>\n",
       "      <td>11th</td>\n",
       "      <td>7</td>\n",
       "      <td>Married-civ-spouse</td>\n",
       "      <td>Handlers-cleaners</td>\n",
       "      <td>Husband</td>\n",
       "      <td>Black</td>\n",
       "      <td>Male</td>\n",
       "      <td>0</td>\n",
       "      <td>0</td>\n",
       "      <td>40</td>\n",
       "      <td>United-States</td>\n",
       "      <td>&lt;=50K</td>\n",
       "    </tr>\n",
       "    <tr>\n",
       "      <th>4</th>\n",
       "      <td>28</td>\n",
       "      <td>Private</td>\n",
       "      <td>338409</td>\n",
       "      <td>Bachelors</td>\n",
       "      <td>13</td>\n",
       "      <td>Married-civ-spouse</td>\n",
       "      <td>Prof-specialty</td>\n",
       "      <td>Wife</td>\n",
       "      <td>Black</td>\n",
       "      <td>Female</td>\n",
       "      <td>0</td>\n",
       "      <td>0</td>\n",
       "      <td>40</td>\n",
       "      <td>Cuba</td>\n",
       "      <td>&lt;=50K</td>\n",
       "    </tr>\n",
       "  </tbody>\n",
       "</table>\n",
       "</div>"
      ],
      "text/plain": [
       "   age          workclass  fnlwgt   education  education_num  \\\n",
       "0   39          State-gov   77516   Bachelors             13   \n",
       "1   50   Self-emp-not-inc   83311   Bachelors             13   \n",
       "2   38            Private  215646     HS-grad              9   \n",
       "3   53            Private  234721        11th              7   \n",
       "4   28            Private  338409   Bachelors             13   \n",
       "\n",
       "        marital_status          occupation    relationship    race      sex  \\\n",
       "0        Never-married        Adm-clerical   Not-in-family   White     Male   \n",
       "1   Married-civ-spouse     Exec-managerial         Husband   White     Male   \n",
       "2             Divorced   Handlers-cleaners   Not-in-family   White     Male   \n",
       "3   Married-civ-spouse   Handlers-cleaners         Husband   Black     Male   \n",
       "4   Married-civ-spouse      Prof-specialty            Wife   Black   Female   \n",
       "\n",
       "   capital_gain  capital_loss  hours_per_week  native_country  income  \n",
       "0          2174             0              40   United-States   <=50K  \n",
       "1             0             0              13   United-States   <=50K  \n",
       "2             0             0              40   United-States   <=50K  \n",
       "3             0             0              40   United-States   <=50K  \n",
       "4             0             0              40            Cuba   <=50K  "
      ]
     },
     "execution_count": 2,
     "metadata": {},
     "output_type": "execute_result"
    }
   ],
   "source": [
    "data = pd.read_csv('income.csv')\n",
    "data.head()\n",
    "# y.head()"
   ]
  },
  {
   "cell_type": "code",
   "execution_count": 3,
   "metadata": {},
   "outputs": [
    {
     "name": "stdout",
     "output_type": "stream",
     "text": [
      "Пропущенные элементы\n"
     ]
    },
    {
     "data": {
      "text/plain": [
       "age               0\n",
       "workclass         0\n",
       "fnlwgt            0\n",
       "education         0\n",
       "education_num     0\n",
       "marital_status    0\n",
       "occupation        0\n",
       "relationship      0\n",
       "race              0\n",
       "sex               0\n",
       "capital_gain      0\n",
       "capital_loss      0\n",
       "hours_per_week    0\n",
       "native_country    0\n",
       "income            0\n",
       "dtype: int64"
      ]
     },
     "execution_count": 3,
     "metadata": {},
     "output_type": "execute_result"
    }
   ],
   "source": [
    "print(\"Пропущенные элементы\")\n",
    "data.isnull().sum()"
   ]
  },
  {
   "cell_type": "code",
   "execution_count": 4,
   "metadata": {},
   "outputs": [
    {
     "data": {
      "text/plain": [
       "<AxesSubplot:>"
      ]
     },
     "execution_count": 4,
     "metadata": {},
     "output_type": "execute_result"
    },
    {
     "data": {
      "image/png": "[encoded data removed]",
      "text/plain": [
       "<Figure size 1080x720 with 1 Axes>"
      ]
     },
     "metadata": {
      "needs_background": "light"
     },
     "output_type": "display_data"
    }
   ],
   "source": [
    "data['workclass'].hist(figsize=(15,10))"
   ]
  },
  {
   "cell_type": "code",
   "execution_count": 5,
   "metadata": {},
   "outputs": [
    {
     "data": {
      "image/png": "[encoded data removed]",
      "text/plain": [
       "<Figure size 720x576 with 1 Axes>"
      ]
     },
     "metadata": {
      "needs_background": "light"
     },
     "output_type": "display_data"
    }
   ],
   "source": [
    "f, ax = plt.subplots(figsize=(10, 8))\n",
    "ax = sns.countplot(x=\"income\",  data=data, hue=\"sex\", palette=\"Set1\")\n",
    "ax.set_title(\"Frequency distribution of income variable wrt sex\")\n",
    "plt.show()"
   ]
  },
  {
   "cell_type": "code",
   "execution_count": 6,
   "metadata": {},
   "outputs": [
    {
     "name": "stderr",
     "output_type": "stream",
     "text": [
      "/home/aidar/anaconda3/lib/python3.7/site-packages/seaborn/distributions.py:2551: FutureWarning: `distplot` is a deprecated function and will be removed in a future version. Please adapt your code to use either `displot` (a figure-level function with similar flexibility) or `histplot` (an axes-level function for histograms).\n",
      "  warnings.warn(msg, FutureWarning)\n"
     ]
    },
    {
     "data": {
      "image/png": "[encoded data removed]",
      "text/plain": [
       "<Figure size 720x576 with 1 Axes>"
      ]
     },
     "metadata": {
      "needs_background": "light"
     },
     "output_type": "display_data"
    }
   ],
   "source": [
    "f, ax = plt.subplots(figsize=(10,8))\n",
    "x = data['age']\n",
    "ax = sns.distplot(x, bins=10, color='blue')\n",
    "ax.set_title(\"Distribution of age variable\")\n",
    "plt.show()"
   ]
  },
  {
   "cell_type": "code",
   "execution_count": 7,
   "metadata": {},
   "outputs": [
    {
     "name": "stderr",
     "output_type": "stream",
     "text": [
      "/home/aidar/anaconda3/lib/python3.7/site-packages/seaborn/_decorators.py:43: FutureWarning: Pass the following variable as a keyword arg: x. From version 0.12, the only valid positional argument will be `data`, and passing other arguments without an explicit keyword will result in an error or misinterpretation.\n",
      "  FutureWarning\n"
     ]
    },
    {
     "data": {
      "image/png": "[encoded data removed]",
      "text/plain": [
       "<Figure size 720x576 with 1 Axes>"
      ]
     },
     "metadata": {
      "needs_background": "light"
     },
     "output_type": "display_data"
    }
   ],
   "source": [
    "f, ax = plt.subplots(figsize=(10,8))\n",
    "x = data['age']\n",
    "ax = sns.boxplot(x)\n",
    "ax.set_title(\"Visualize outliers in age variable\")\n",
    "plt.show()"
   ]
  },
  {
   "cell_type": "code",
   "execution_count": 8,
   "metadata": {},
   "outputs": [
    {
     "data": {
      "image/png": "[encoded data removed]",
      "text/plain": [
       "<Figure size 720x576 with 1 Axes>"
      ]
     },
     "metadata": {
      "needs_background": "light"
     },
     "output_type": "display_data"
    }
   ],
   "source": [
    "f, ax = plt.subplots(figsize=(10, 8))\n",
    "ax = sns.boxplot(x=\"income\", y=\"age\", data=data)\n",
    "ax.set_title(\"Visualize income wrt age variable\")\n",
    "plt.show()"
   ]
  },
  {
   "cell_type": "code",
   "execution_count": 9,
   "metadata": {},
   "outputs": [
    {
     "data": {
      "image/png": "[encoded data removed]",
      "text/plain": [
       "<Figure size 720x576 with 1 Axes>"
      ]
     },
     "metadata": {
      "needs_background": "light"
     },
     "output_type": "display_data"
    }
   ],
   "source": [
    "f, ax = plt.subplots(figsize=(10, 8))\n",
    "ax = sns.boxplot(x=\"income\", y=\"age\", hue=\"sex\", data=data)\n",
    "ax.set_title(\"Visualize income wrt age and sex variable\")\n",
    "ax.legend(loc='upper right')\n",
    "plt.show()"
   ]
  },
  {
   "cell_type": "code",
   "execution_count": 10,
   "metadata": {},
   "outputs": [
    {
     "data": {
      "image/png": "[encoded data removed]",
      "text/plain": [
       "<Figure size 720x576 with 1 Axes>"
      ]
     },
     "metadata": {
      "needs_background": "light"
     },
     "output_type": "display_data"
    }
   ],
   "source": [
    "f, ax = plt.subplots(figsize=(10, 8))\n",
    "ax = sns.boxplot(x=\"race\", y=\"age\", data=data)\n",
    "ax.set_title(\"Visualize age of different races\")\n",
    "plt.show()"
   ]
  },
  {
   "cell_type": "code",
   "execution_count": 11,
   "metadata": {},
   "outputs": [
    {
     "data": {
      "text/html": [
       "<style  type=\"text/css\" >\n",
       "#T_22cdb5c8_2a70_11eb_8f48_c5db5a7c1525row0_col0,#T_22cdb5c8_2a70_11eb_8f48_c5db5a7c1525row1_col1,#T_22cdb5c8_2a70_11eb_8f48_c5db5a7c1525row2_col2,#T_22cdb5c8_2a70_11eb_8f48_c5db5a7c1525row3_col3,#T_22cdb5c8_2a70_11eb_8f48_c5db5a7c1525row4_col4,#T_22cdb5c8_2a70_11eb_8f48_c5db5a7c1525row5_col5{\n",
       "            background-color:  #b40426;\n",
       "            color:  #f1f1f1;\n",
       "        }#T_22cdb5c8_2a70_11eb_8f48_c5db5a7c1525row0_col1,#T_22cdb5c8_2a70_11eb_8f48_c5db5a7c1525row1_col0,#T_22cdb5c8_2a70_11eb_8f48_c5db5a7c1525row2_col1,#T_22cdb5c8_2a70_11eb_8f48_c5db5a7c1525row3_col4,#T_22cdb5c8_2a70_11eb_8f48_c5db5a7c1525row4_col3,#T_22cdb5c8_2a70_11eb_8f48_c5db5a7c1525row5_col1{\n",
       "            background-color:  #3b4cc0;\n",
       "            color:  #f1f1f1;\n",
       "        }#T_22cdb5c8_2a70_11eb_8f48_c5db5a7c1525row0_col2{\n",
       "            background-color:  #5a78e4;\n",
       "            color:  #000000;\n",
       "        }#T_22cdb5c8_2a70_11eb_8f48_c5db5a7c1525row0_col3{\n",
       "            background-color:  #6788ee;\n",
       "            color:  #000000;\n",
       "        }#T_22cdb5c8_2a70_11eb_8f48_c5db5a7c1525row0_col4{\n",
       "            background-color:  #6180e9;\n",
       "            color:  #000000;\n",
       "        }#T_22cdb5c8_2a70_11eb_8f48_c5db5a7c1525row0_col5{\n",
       "            background-color:  #6485ec;\n",
       "            color:  #000000;\n",
       "        }#T_22cdb5c8_2a70_11eb_8f48_c5db5a7c1525row1_col2,#T_22cdb5c8_2a70_11eb_8f48_c5db5a7c1525row3_col1{\n",
       "            background-color:  #4358cb;\n",
       "            color:  #f1f1f1;\n",
       "        }#T_22cdb5c8_2a70_11eb_8f48_c5db5a7c1525row1_col3,#T_22cdb5c8_2a70_11eb_8f48_c5db5a7c1525row5_col4{\n",
       "            background-color:  #506bda;\n",
       "            color:  #000000;\n",
       "        }#T_22cdb5c8_2a70_11eb_8f48_c5db5a7c1525row1_col4{\n",
       "            background-color:  #4c66d6;\n",
       "            color:  #000000;\n",
       "        }#T_22cdb5c8_2a70_11eb_8f48_c5db5a7c1525row1_col5{\n",
       "            background-color:  #4a63d3;\n",
       "            color:  #f1f1f1;\n",
       "        }#T_22cdb5c8_2a70_11eb_8f48_c5db5a7c1525row2_col0{\n",
       "            background-color:  #516ddb;\n",
       "            color:  #000000;\n",
       "        }#T_22cdb5c8_2a70_11eb_8f48_c5db5a7c1525row2_col3{\n",
       "            background-color:  #6c8ff1;\n",
       "            color:  #000000;\n",
       "        }#T_22cdb5c8_2a70_11eb_8f48_c5db5a7c1525row2_col4{\n",
       "            background-color:  #5f7fe8;\n",
       "            color:  #000000;\n",
       "        }#T_22cdb5c8_2a70_11eb_8f48_c5db5a7c1525row2_col5{\n",
       "            background-color:  #7597f6;\n",
       "            color:  #000000;\n",
       "        }#T_22cdb5c8_2a70_11eb_8f48_c5db5a7c1525row3_col0,#T_22cdb5c8_2a70_11eb_8f48_c5db5a7c1525row3_col5,#T_22cdb5c8_2a70_11eb_8f48_c5db5a7c1525row4_col2{\n",
       "            background-color:  #5b7ae5;\n",
       "            color:  #000000;\n",
       "        }#T_22cdb5c8_2a70_11eb_8f48_c5db5a7c1525row3_col2{\n",
       "            background-color:  #6a8bef;\n",
       "            color:  #000000;\n",
       "        }#T_22cdb5c8_2a70_11eb_8f48_c5db5a7c1525row4_col0{\n",
       "            background-color:  #5572df;\n",
       "            color:  #000000;\n",
       "        }#T_22cdb5c8_2a70_11eb_8f48_c5db5a7c1525row4_col1{\n",
       "            background-color:  #4055c8;\n",
       "            color:  #f1f1f1;\n",
       "        }#T_22cdb5c8_2a70_11eb_8f48_c5db5a7c1525row4_col5,#T_22cdb5c8_2a70_11eb_8f48_c5db5a7c1525row5_col0{\n",
       "            background-color:  #5470de;\n",
       "            color:  #000000;\n",
       "        }#T_22cdb5c8_2a70_11eb_8f48_c5db5a7c1525row5_col2{\n",
       "            background-color:  #6e90f2;\n",
       "            color:  #000000;\n",
       "        }#T_22cdb5c8_2a70_11eb_8f48_c5db5a7c1525row5_col3{\n",
       "            background-color:  #5875e1;\n",
       "            color:  #000000;\n",
       "        }</style><table id=\"T_22cdb5c8_2a70_11eb_8f48_c5db5a7c1525\" ><thead>    <tr>        <th class=\"blank level0\" ></th>        <th class=\"col_heading level0 col0\" >age</th>        <th class=\"col_heading level0 col1\" >fnlwgt</th>        <th class=\"col_heading level0 col2\" >education_num</th>        <th class=\"col_heading level0 col3\" >capital_gain</th>        <th class=\"col_heading level0 col4\" >capital_loss</th>        <th class=\"col_heading level0 col5\" >hours_per_week</th>    </tr></thead><tbody>\n",
       "                <tr>\n",
       "                        <th id=\"T_22cdb5c8_2a70_11eb_8f48_c5db5a7c1525level0_row0\" class=\"row_heading level0 row0\" >age</th>\n",
       "                        <td id=\"T_22cdb5c8_2a70_11eb_8f48_c5db5a7c1525row0_col0\" class=\"data row0 col0\" >1.0</td>\n",
       "                        <td id=\"T_22cdb5c8_2a70_11eb_8f48_c5db5a7c1525row0_col1\" class=\"data row0 col1\" >-0.07665</td>\n",
       "                        <td id=\"T_22cdb5c8_2a70_11eb_8f48_c5db5a7c1525row0_col2\" class=\"data row0 col2\" >0.03653</td>\n",
       "                        <td id=\"T_22cdb5c8_2a70_11eb_8f48_c5db5a7c1525row0_col3\" class=\"data row0 col3\" >0.07767</td>\n",
       "                        <td id=\"T_22cdb5c8_2a70_11eb_8f48_c5db5a7c1525row0_col4\" class=\"data row0 col4\" >0.05777</td>\n",
       "                        <td id=\"T_22cdb5c8_2a70_11eb_8f48_c5db5a7c1525row0_col5\" class=\"data row0 col5\" >0.06876</td>\n",
       "            </tr>\n",
       "            <tr>\n",
       "                        <th id=\"T_22cdb5c8_2a70_11eb_8f48_c5db5a7c1525level0_row1\" class=\"row_heading level0 row1\" >fnlwgt</th>\n",
       "                        <td id=\"T_22cdb5c8_2a70_11eb_8f48_c5db5a7c1525row1_col0\" class=\"data row1 col0\" >-0.07665</td>\n",
       "                        <td id=\"T_22cdb5c8_2a70_11eb_8f48_c5db5a7c1525row1_col1\" class=\"data row1 col1\" >1.0</td>\n",
       "                        <td id=\"T_22cdb5c8_2a70_11eb_8f48_c5db5a7c1525row1_col2\" class=\"data row1 col2\" >-0.04319</td>\n",
       "                        <td id=\"T_22cdb5c8_2a70_11eb_8f48_c5db5a7c1525row1_col3\" class=\"data row1 col3\" >0.0004319</td>\n",
       "                        <td id=\"T_22cdb5c8_2a70_11eb_8f48_c5db5a7c1525row1_col4\" class=\"data row1 col4\" >-0.01025</td>\n",
       "                        <td id=\"T_22cdb5c8_2a70_11eb_8f48_c5db5a7c1525row1_col5\" class=\"data row1 col5\" >-0.01877</td>\n",
       "            </tr>\n",
       "            <tr>\n",
       "                        <th id=\"T_22cdb5c8_2a70_11eb_8f48_c5db5a7c1525level0_row2\" class=\"row_heading level0 row2\" >education_num</th>\n",
       "                        <td id=\"T_22cdb5c8_2a70_11eb_8f48_c5db5a7c1525row2_col0\" class=\"data row2 col0\" >0.03653</td>\n",
       "                        <td id=\"T_22cdb5c8_2a70_11eb_8f48_c5db5a7c1525row2_col1\" class=\"data row2 col1\" >-0.04319</td>\n",
       "                        <td id=\"T_22cdb5c8_2a70_11eb_8f48_c5db5a7c1525row2_col2\" class=\"data row2 col2\" >1.0</td>\n",
       "                        <td id=\"T_22cdb5c8_2a70_11eb_8f48_c5db5a7c1525row2_col3\" class=\"data row2 col3\" >0.1226</td>\n",
       "                        <td id=\"T_22cdb5c8_2a70_11eb_8f48_c5db5a7c1525row2_col4\" class=\"data row2 col4\" >0.07992</td>\n",
       "                        <td id=\"T_22cdb5c8_2a70_11eb_8f48_c5db5a7c1525row2_col5\" class=\"data row2 col5\" >0.1481</td>\n",
       "            </tr>\n",
       "            <tr>\n",
       "                        <th id=\"T_22cdb5c8_2a70_11eb_8f48_c5db5a7c1525level0_row3\" class=\"row_heading level0 row3\" >capital_gain</th>\n",
       "                        <td id=\"T_22cdb5c8_2a70_11eb_8f48_c5db5a7c1525row3_col0\" class=\"data row3 col0\" >0.07767</td>\n",
       "                        <td id=\"T_22cdb5c8_2a70_11eb_8f48_c5db5a7c1525row3_col1\" class=\"data row3 col1\" >0.0004319</td>\n",
       "                        <td id=\"T_22cdb5c8_2a70_11eb_8f48_c5db5a7c1525row3_col2\" class=\"data row3 col2\" >0.1226</td>\n",
       "                        <td id=\"T_22cdb5c8_2a70_11eb_8f48_c5db5a7c1525row3_col3\" class=\"data row3 col3\" >1.0</td>\n",
       "                        <td id=\"T_22cdb5c8_2a70_11eb_8f48_c5db5a7c1525row3_col4\" class=\"data row3 col4\" >-0.03162</td>\n",
       "                        <td id=\"T_22cdb5c8_2a70_11eb_8f48_c5db5a7c1525row3_col5\" class=\"data row3 col5\" >0.07841</td>\n",
       "            </tr>\n",
       "            <tr>\n",
       "                        <th id=\"T_22cdb5c8_2a70_11eb_8f48_c5db5a7c1525level0_row4\" class=\"row_heading level0 row4\" >capital_loss</th>\n",
       "                        <td id=\"T_22cdb5c8_2a70_11eb_8f48_c5db5a7c1525row4_col0\" class=\"data row4 col0\" >0.05777</td>\n",
       "                        <td id=\"T_22cdb5c8_2a70_11eb_8f48_c5db5a7c1525row4_col1\" class=\"data row4 col1\" >-0.01025</td>\n",
       "                        <td id=\"T_22cdb5c8_2a70_11eb_8f48_c5db5a7c1525row4_col2\" class=\"data row4 col2\" >0.07992</td>\n",
       "                        <td id=\"T_22cdb5c8_2a70_11eb_8f48_c5db5a7c1525row4_col3\" class=\"data row4 col3\" >-0.03162</td>\n",
       "                        <td id=\"T_22cdb5c8_2a70_11eb_8f48_c5db5a7c1525row4_col4\" class=\"data row4 col4\" >1.0</td>\n",
       "                        <td id=\"T_22cdb5c8_2a70_11eb_8f48_c5db5a7c1525row4_col5\" class=\"data row4 col5\" >0.05426</td>\n",
       "            </tr>\n",
       "            <tr>\n",
       "                        <th id=\"T_22cdb5c8_2a70_11eb_8f48_c5db5a7c1525level0_row5\" class=\"row_heading level0 row5\" >hours_per_week</th>\n",
       "                        <td id=\"T_22cdb5c8_2a70_11eb_8f48_c5db5a7c1525row5_col0\" class=\"data row5 col0\" >0.06876</td>\n",
       "                        <td id=\"T_22cdb5c8_2a70_11eb_8f48_c5db5a7c1525row5_col1\" class=\"data row5 col1\" >-0.01877</td>\n",
       "                        <td id=\"T_22cdb5c8_2a70_11eb_8f48_c5db5a7c1525row5_col2\" class=\"data row5 col2\" >0.1481</td>\n",
       "                        <td id=\"T_22cdb5c8_2a70_11eb_8f48_c5db5a7c1525row5_col3\" class=\"data row5 col3\" >0.07841</td>\n",
       "                        <td id=\"T_22cdb5c8_2a70_11eb_8f48_c5db5a7c1525row5_col4\" class=\"data row5 col4\" >0.05426</td>\n",
       "                        <td id=\"T_22cdb5c8_2a70_11eb_8f48_c5db5a7c1525row5_col5\" class=\"data row5 col5\" >1.0</td>\n",
       "            </tr>\n",
       "    </tbody></table>"
      ],
      "text/plain": [
       "<pandas.io.formats.style.Styler at 0x7f2b220b2d10>"
      ]
     },
     "execution_count": 11,
     "metadata": {},
     "output_type": "execute_result"
    }
   ],
   "source": [
    "data.corr().style.format(\"{:.4}\").background_gradient(cmap=plt.get_cmap('coolwarm'), axis=1)"
   ]
  },
  {
   "cell_type": "code",
   "execution_count": 12,
   "metadata": {},
   "outputs": [],
   "source": [
    "data.replace(' ?', np.NaN, inplace=True)"
   ]
  },
  {
   "cell_type": "code",
   "execution_count": 13,
   "metadata": {},
   "outputs": [
    {
     "data": {
      "text/html": [
       "<div>\n",
       "<style scoped>\n",
       "    .dataframe tbody tr th:only-of-type {\n",
       "        vertical-align: middle;\n",
       "    }\n",
       "\n",
       "    .dataframe tbody tr th {\n",
       "        vertical-align: top;\n",
       "    }\n",
       "\n",
       "    .dataframe thead th {\n",
       "        text-align: right;\n",
       "    }\n",
       "</style>\n",
       "<table border=\"1\" class=\"dataframe\">\n",
       "  <thead>\n",
       "    <tr style=\"text-align: right;\">\n",
       "      <th></th>\n",
       "      <th>age</th>\n",
       "      <th>workclass</th>\n",
       "      <th>fnlwgt</th>\n",
       "      <th>education</th>\n",
       "      <th>education_num</th>\n",
       "      <th>marital_status</th>\n",
       "      <th>occupation</th>\n",
       "      <th>relationship</th>\n",
       "      <th>race</th>\n",
       "      <th>sex</th>\n",
       "      <th>capital_gain</th>\n",
       "      <th>capital_loss</th>\n",
       "      <th>hours_per_week</th>\n",
       "      <th>native_country</th>\n",
       "      <th>income</th>\n",
       "    </tr>\n",
       "  </thead>\n",
       "  <tbody>\n",
       "    <tr>\n",
       "      <th>0</th>\n",
       "      <td>39</td>\n",
       "      <td>State-gov</td>\n",
       "      <td>77516</td>\n",
       "      <td>Bachelors</td>\n",
       "      <td>13</td>\n",
       "      <td>Never-married</td>\n",
       "      <td>Adm-clerical</td>\n",
       "      <td>Not-in-family</td>\n",
       "      <td>White</td>\n",
       "      <td>Male</td>\n",
       "      <td>2174</td>\n",
       "      <td>0</td>\n",
       "      <td>40</td>\n",
       "      <td>United-States</td>\n",
       "      <td>&lt;=50K</td>\n",
       "    </tr>\n",
       "    <tr>\n",
       "      <th>1</th>\n",
       "      <td>50</td>\n",
       "      <td>Self-emp-not-inc</td>\n",
       "      <td>83311</td>\n",
       "      <td>Bachelors</td>\n",
       "      <td>13</td>\n",
       "      <td>Married-civ-spouse</td>\n",
       "      <td>Exec-managerial</td>\n",
       "      <td>Husband</td>\n",
       "      <td>White</td>\n",
       "      <td>Male</td>\n",
       "      <td>0</td>\n",
       "      <td>0</td>\n",
       "      <td>13</td>\n",
       "      <td>United-States</td>\n",
       "      <td>&lt;=50K</td>\n",
       "    </tr>\n",
       "    <tr>\n",
       "      <th>2</th>\n",
       "      <td>38</td>\n",
       "      <td>Private</td>\n",
       "      <td>215646</td>\n",
       "      <td>HS-grad</td>\n",
       "      <td>9</td>\n",
       "      <td>Divorced</td>\n",
       "      <td>Handlers-cleaners</td>\n",
       "      <td>Not-in-family</td>\n",
       "      <td>White</td>\n",
       "      <td>Male</td>\n",
       "      <td>0</td>\n",
       "      <td>0</td>\n",
       "      <td>40</td>\n",
       "      <td>United-States</td>\n",
       "      <td>&lt;=50K</td>\n",
       "    </tr>\n",
       "    <tr>\n",
       "      <th>3</th>\n",
       "      <td>53</td>\n",
       "      <td>Private</td>\n",
       "      <td>234721</td>\n",
       "      <td>11th</td>\n",
       "      <td>7</td>\n",
       "      <td>Married-civ-spouse</td>\n",
       "      <td>Handlers-cleaners</td>\n",
       "      <td>Husband</td>\n",
       "      <td>Black</td>\n",
       "      <td>Male</td>\n",
       "      <td>0</td>\n",
       "      <td>0</td>\n",
       "      <td>40</td>\n",
       "      <td>United-States</td>\n",
       "      <td>&lt;=50K</td>\n",
       "    </tr>\n",
       "    <tr>\n",
       "      <th>4</th>\n",
       "      <td>28</td>\n",
       "      <td>Private</td>\n",
       "      <td>338409</td>\n",
       "      <td>Bachelors</td>\n",
       "      <td>13</td>\n",
       "      <td>Married-civ-spouse</td>\n",
       "      <td>Prof-specialty</td>\n",
       "      <td>Wife</td>\n",
       "      <td>Black</td>\n",
       "      <td>Female</td>\n",
       "      <td>0</td>\n",
       "      <td>0</td>\n",
       "      <td>40</td>\n",
       "      <td>Cuba</td>\n",
       "      <td>&lt;=50K</td>\n",
       "    </tr>\n",
       "  </tbody>\n",
       "</table>\n",
       "</div>"
      ],
      "text/plain": [
       "   age          workclass  fnlwgt   education  education_num  \\\n",
       "0   39          State-gov   77516   Bachelors             13   \n",
       "1   50   Self-emp-not-inc   83311   Bachelors             13   \n",
       "2   38            Private  215646     HS-grad              9   \n",
       "3   53            Private  234721        11th              7   \n",
       "4   28            Private  338409   Bachelors             13   \n",
       "\n",
       "        marital_status          occupation    relationship    race      sex  \\\n",
       "0        Never-married        Adm-clerical   Not-in-family   White     Male   \n",
       "1   Married-civ-spouse     Exec-managerial         Husband   White     Male   \n",
       "2             Divorced   Handlers-cleaners   Not-in-family   White     Male   \n",
       "3   Married-civ-spouse   Handlers-cleaners         Husband   Black     Male   \n",
       "4   Married-civ-spouse      Prof-specialty            Wife   Black   Female   \n",
       "\n",
       "   capital_gain  capital_loss  hours_per_week  native_country  income  \n",
       "0          2174             0              40   United-States   <=50K  \n",
       "1             0             0              13   United-States   <=50K  \n",
       "2             0             0              40   United-States   <=50K  \n",
       "3             0             0              40   United-States   <=50K  \n",
       "4             0             0              40            Cuba   <=50K  "
      ]
     },
     "execution_count": 13,
     "metadata": {},
     "output_type": "execute_result"
    }
   ],
   "source": [
    "categorical = [var for var in data.columns if data[var].dtype=='O']\n",
    "data.head()"
   ]
  },
  {
   "cell_type": "code",
   "execution_count": 14,
   "metadata": {},
   "outputs": [
    {
     "name": "stderr",
     "output_type": "stream",
     "text": [
      "/home/aidar/anaconda3/lib/python3.7/site-packages/category_encoders/utils.py:21: FutureWarning: is_categorical is deprecated and will be removed in a future version.  Use is_categorical_dtype instead\n",
      "  elif pd.api.types.is_categorical(cols):\n"
     ]
    },
    {
     "data": {
      "text/html": [
       "<div>\n",
       "<style scoped>\n",
       "    .dataframe tbody tr th:only-of-type {\n",
       "        vertical-align: middle;\n",
       "    }\n",
       "\n",
       "    .dataframe tbody tr th {\n",
       "        vertical-align: top;\n",
       "    }\n",
       "\n",
       "    .dataframe thead th {\n",
       "        text-align: right;\n",
       "    }\n",
       "</style>\n",
       "<table border=\"1\" class=\"dataframe\">\n",
       "  <thead>\n",
       "    <tr style=\"text-align: right;\">\n",
       "      <th></th>\n",
       "      <th>age</th>\n",
       "      <th>workclass</th>\n",
       "      <th>fnlwgt</th>\n",
       "      <th>education</th>\n",
       "      <th>education_num</th>\n",
       "      <th>marital_status</th>\n",
       "      <th>occupation</th>\n",
       "      <th>relationship</th>\n",
       "      <th>race</th>\n",
       "      <th>sex</th>\n",
       "      <th>capital_gain</th>\n",
       "      <th>capital_loss</th>\n",
       "      <th>hours_per_week</th>\n",
       "      <th>native_country</th>\n",
       "      <th>income</th>\n",
       "    </tr>\n",
       "  </thead>\n",
       "  <tbody>\n",
       "    <tr>\n",
       "      <th>0</th>\n",
       "      <td>39</td>\n",
       "      <td>0.271957</td>\n",
       "      <td>77516</td>\n",
       "      <td>0.414753</td>\n",
       "      <td>13</td>\n",
       "      <td>0.045961</td>\n",
       "      <td>0.134483</td>\n",
       "      <td>0.103070</td>\n",
       "      <td>0.25586</td>\n",
       "      <td>0.305737</td>\n",
       "      <td>2174</td>\n",
       "      <td>0</td>\n",
       "      <td>40</td>\n",
       "      <td>0.245835</td>\n",
       "      <td>0.0</td>\n",
       "    </tr>\n",
       "    <tr>\n",
       "      <th>1</th>\n",
       "      <td>50</td>\n",
       "      <td>0.284927</td>\n",
       "      <td>83311</td>\n",
       "      <td>0.414753</td>\n",
       "      <td>13</td>\n",
       "      <td>0.446848</td>\n",
       "      <td>0.484014</td>\n",
       "      <td>0.448571</td>\n",
       "      <td>0.25586</td>\n",
       "      <td>0.305737</td>\n",
       "      <td>0</td>\n",
       "      <td>0</td>\n",
       "      <td>13</td>\n",
       "      <td>0.245835</td>\n",
       "      <td>0.0</td>\n",
       "    </tr>\n",
       "    <tr>\n",
       "      <th>2</th>\n",
       "      <td>38</td>\n",
       "      <td>0.218673</td>\n",
       "      <td>215646</td>\n",
       "      <td>0.159509</td>\n",
       "      <td>9</td>\n",
       "      <td>0.104209</td>\n",
       "      <td>0.062774</td>\n",
       "      <td>0.103070</td>\n",
       "      <td>0.25586</td>\n",
       "      <td>0.305737</td>\n",
       "      <td>0</td>\n",
       "      <td>0</td>\n",
       "      <td>40</td>\n",
       "      <td>0.245835</td>\n",
       "      <td>0.0</td>\n",
       "    </tr>\n",
       "    <tr>\n",
       "      <th>3</th>\n",
       "      <td>53</td>\n",
       "      <td>0.218673</td>\n",
       "      <td>234721</td>\n",
       "      <td>0.051064</td>\n",
       "      <td>7</td>\n",
       "      <td>0.446848</td>\n",
       "      <td>0.062774</td>\n",
       "      <td>0.448571</td>\n",
       "      <td>0.12388</td>\n",
       "      <td>0.305737</td>\n",
       "      <td>0</td>\n",
       "      <td>0</td>\n",
       "      <td>40</td>\n",
       "      <td>0.245835</td>\n",
       "      <td>0.0</td>\n",
       "    </tr>\n",
       "    <tr>\n",
       "      <th>4</th>\n",
       "      <td>28</td>\n",
       "      <td>0.218673</td>\n",
       "      <td>338409</td>\n",
       "      <td>0.414753</td>\n",
       "      <td>13</td>\n",
       "      <td>0.446848</td>\n",
       "      <td>0.449034</td>\n",
       "      <td>0.475128</td>\n",
       "      <td>0.12388</td>\n",
       "      <td>0.109461</td>\n",
       "      <td>0</td>\n",
       "      <td>0</td>\n",
       "      <td>40</td>\n",
       "      <td>0.263158</td>\n",
       "      <td>0.0</td>\n",
       "    </tr>\n",
       "  </tbody>\n",
       "</table>\n",
       "</div>"
      ],
      "text/plain": [
       "   age  workclass  fnlwgt  education  education_num  marital_status  \\\n",
       "0   39   0.271957   77516   0.414753             13        0.045961   \n",
       "1   50   0.284927   83311   0.414753             13        0.446848   \n",
       "2   38   0.218673  215646   0.159509              9        0.104209   \n",
       "3   53   0.218673  234721   0.051064              7        0.446848   \n",
       "4   28   0.218673  338409   0.414753             13        0.446848   \n",
       "\n",
       "   occupation  relationship     race       sex  capital_gain  capital_loss  \\\n",
       "0    0.134483      0.103070  0.25586  0.305737          2174             0   \n",
       "1    0.484014      0.448571  0.25586  0.305737             0             0   \n",
       "2    0.062774      0.103070  0.25586  0.305737             0             0   \n",
       "3    0.062774      0.448571  0.12388  0.305737             0             0   \n",
       "4    0.449034      0.475128  0.12388  0.109461             0             0   \n",
       "\n",
       "   hours_per_week  native_country  income  \n",
       "0              40        0.245835     0.0  \n",
       "1              13        0.245835     0.0  \n",
       "2              40        0.245835     0.0  \n",
       "3              40        0.245835     0.0  \n",
       "4              40        0.263158     0.0  "
      ]
     },
     "execution_count": 14,
     "metadata": {},
     "output_type": "execute_result"
    }
   ],
   "source": [
    "y = pd.get_dummies(data.income).iloc[:,1]\n",
    "te = TargetEncoder(return_df=True)\n",
    "newData = te.fit_transform(data[categorical],y)\n",
    "for i in categorical:\n",
    "    data[i] = newData[i]\n",
    "data.head()"
   ]
  },
  {
   "cell_type": "code",
   "execution_count": 15,
   "metadata": {},
   "outputs": [],
   "source": [
    "X = data.iloc[:,:-1]\n",
    "y = data.iloc[:,-1]\n",
    "X_train, X_test, y_train, y_test  = train_test_split(X,y,test_size =0.3, shuffle = True)"
   ]
  },
  {
   "cell_type": "markdown",
   "metadata": {},
   "source": [
    "# Модель решающих деревьев"
   ]
  },
  {
   "cell_type": "code",
   "execution_count": 17,
   "metadata": {},
   "outputs": [],
   "source": [
    "kf = KFold(n_splits=5,shuffle=True)\n",
    "score = []\n",
    "accuracy = []\n",
    "for k in range(5,51):\n",
    "    clf = DecisionTreeClassifier(random_state=241,max_depth=k)\n",
    "    score = cross_val_score(clf, X,y, cv=kf, scoring = \"f1\")\n",
    "    accuracy.append(score.mean())"
   ]
  },
  {
   "cell_type": "code",
   "execution_count": 18,
   "metadata": {},
   "outputs": [
    {
     "data": {
      "text/plain": [
       "<matplotlib.legend.Legend at 0x7f2b21b1f890>"
      ]
     },
     "execution_count": 18,
     "metadata": {},
     "output_type": "execute_result"
    },
    {
     "data": {
      "image/png": "[encoded data removed]",
      "text/plain": [
       "<Figure size 1080x720 with 1 Axes>"
      ]
     },
     "metadata": {
      "needs_background": "light"
     },
     "output_type": "display_data"
    }
   ],
   "source": [
    "depth = range(5,51)\n",
    "plt.figure(figsize = [15,10])\n",
    "plt.plot(depth,accuracy)\n",
    "plt.grid(\"on\")\n",
    "plt.xlabel('k')\n",
    "plt.ylabel('F-мера')\n",
    "plt.legend([\"F-мера\"])"
   ]
  },
  {
   "cell_type": "code",
   "execution_count": 19,
   "metadata": {},
   "outputs": [
    {
     "name": "stdout",
     "output_type": "stream",
     "text": [
      "Максимально езначение F-меры 0.678465, достигается при depth = 10\n"
     ]
    }
   ],
   "source": [
    "maxF = max(accuracy)\n",
    "maxInd = accuracy.index(maxF)\n",
    "print(\"Максимально езначение F-меры %f, достигается при depth = %d\" %(maxF, 5+maxInd))"
   ]
  },
  {
   "cell_type": "code",
   "execution_count": 21,
   "metadata": {},
   "outputs": [],
   "source": [
    "clf = DecisionTreeClassifier(random_state=241,max_depth=10)\n",
    "clf = clf.fit(X_train, y_train)"
   ]
  },
  {
   "cell_type": "code",
   "execution_count": 22,
   "metadata": {},
   "outputs": [
    {
     "data": {
      "text/html": [
       "<div>\n",
       "<style scoped>\n",
       "    .dataframe tbody tr th:only-of-type {\n",
       "        vertical-align: middle;\n",
       "    }\n",
       "\n",
       "    .dataframe tbody tr th {\n",
       "        vertical-align: top;\n",
       "    }\n",
       "\n",
       "    .dataframe thead th {\n",
       "        text-align: right;\n",
       "    }\n",
       "</style>\n",
       "<table border=\"1\" class=\"dataframe\">\n",
       "  <thead>\n",
       "    <tr style=\"text-align: right;\">\n",
       "      <th></th>\n",
       "      <th>predicted &gt;50</th>\n",
       "      <th>predicted &lt;50</th>\n",
       "    </tr>\n",
       "  </thead>\n",
       "  <tbody>\n",
       "    <tr>\n",
       "      <th>actual &gt;50</th>\n",
       "      <td>6916</td>\n",
       "      <td>485</td>\n",
       "    </tr>\n",
       "    <tr>\n",
       "      <th>actual &lt;50</th>\n",
       "      <td>898</td>\n",
       "      <td>1470</td>\n",
       "    </tr>\n",
       "  </tbody>\n",
       "</table>\n",
       "</div>"
      ],
      "text/plain": [
       "            predicted >50  predicted <50\n",
       "actual >50           6916            485\n",
       "actual <50            898           1470"
      ]
     },
     "execution_count": 22,
     "metadata": {},
     "output_type": "execute_result"
    }
   ],
   "source": [
    "confusion_matrix1 = confusion_matrix(y_test, clf.predict(X_test)) \n",
    "pd.DataFrame(data  =  confusion_matrix1,  columns  =  ['predicted >50', \n",
    "'predicted <50'], index = ['actual >50', 'actual <50']) "
   ]
  },
  {
   "cell_type": "markdown",
   "metadata": {},
   "source": [
    "# Модель случайного леса"
   ]
  },
  {
   "cell_type": "code",
   "execution_count": 23,
   "metadata": {},
   "outputs": [],
   "source": [
    "kf = KFold(n_splits=5,shuffle=True)\n",
    "score = []\n",
    "accuracy = []\n",
    "for k in range(1,51):\n",
    "    clf = RandomForestClassifier(random_state=241,n_estimators=k)\n",
    "    score = cross_val_score(clf, X,y, cv=kf, scoring = \"f1\")\n",
    "    accuracy.append(score.mean())"
   ]
  },
  {
   "cell_type": "code",
   "execution_count": 24,
   "metadata": {},
   "outputs": [
    {
     "data": {
      "text/plain": [
       "<matplotlib.legend.Legend at 0x7f2b2204e2d0>"
      ]
     },
     "execution_count": 24,
     "metadata": {},
     "output_type": "execute_result"
    },
    {
     "data": {
      "image/png": "[encoded data removed]",
      "text/plain": [
       "<Figure size 1080x720 with 1 Axes>"
      ]
     },
     "metadata": {
      "needs_background": "light"
     },
     "output_type": "display_data"
    }
   ],
   "source": [
    "n_estim = range(1,51)\n",
    "plt.figure(figsize = [15,10])\n",
    "plt.plot(n_estim,accuracy)\n",
    "plt.grid(\"on\")\n",
    "plt.xlabel('k')\n",
    "plt.ylabel('F-мера')\n",
    "plt.legend([\"accuracy\"])"
   ]
  },
  {
   "cell_type": "code",
   "execution_count": 25,
   "metadata": {},
   "outputs": [
    {
     "name": "stdout",
     "output_type": "stream",
     "text": [
      "Максимально езначение F-меры 0.682652, достигается при depth = 48\n"
     ]
    }
   ],
   "source": [
    "maxF = max(accuracy)\n",
    "maxInd = accuracy.index(maxF)\n",
    "print(\"Максимально езначение F-меры %f, достигается при depth = %d\" %(maxF, maxInd))"
   ]
  },
  {
   "cell_type": "code",
   "execution_count": 26,
   "metadata": {},
   "outputs": [],
   "source": [
    "clf = RandomForestClassifier(random_state=241,n_estimators=48)\n",
    "clf = clf.fit(X_train, y_train)"
   ]
  },
  {
   "cell_type": "code",
   "execution_count": 27,
   "metadata": {},
   "outputs": [
    {
     "data": {
      "text/html": [
       "<div>\n",
       "<style scoped>\n",
       "    .dataframe tbody tr th:only-of-type {\n",
       "        vertical-align: middle;\n",
       "    }\n",
       "\n",
       "    .dataframe tbody tr th {\n",
       "        vertical-align: top;\n",
       "    }\n",
       "\n",
       "    .dataframe thead th {\n",
       "        text-align: right;\n",
       "    }\n",
       "</style>\n",
       "<table border=\"1\" class=\"dataframe\">\n",
       "  <thead>\n",
       "    <tr style=\"text-align: right;\">\n",
       "      <th></th>\n",
       "      <th>predicted &gt;50</th>\n",
       "      <th>predicted &lt;50</th>\n",
       "    </tr>\n",
       "  </thead>\n",
       "  <tbody>\n",
       "    <tr>\n",
       "      <th>actual &gt;50</th>\n",
       "      <td>6855</td>\n",
       "      <td>546</td>\n",
       "    </tr>\n",
       "    <tr>\n",
       "      <th>actual &lt;50</th>\n",
       "      <td>865</td>\n",
       "      <td>1503</td>\n",
       "    </tr>\n",
       "  </tbody>\n",
       "</table>\n",
       "</div>"
      ],
      "text/plain": [
       "            predicted >50  predicted <50\n",
       "actual >50           6855            546\n",
       "actual <50            865           1503"
      ]
     },
     "execution_count": 27,
     "metadata": {},
     "output_type": "execute_result"
    }
   ],
   "source": [
    "confusion_matrix1 = confusion_matrix(y_test, clf.predict(X_test)) \n",
    "pd.DataFrame(data  =  confusion_matrix1,  columns  =  ['predicted >50', \n",
    "'predicted <50'], index = ['actual >50', 'actual <50']) "
   ]
  },
  {
   "cell_type": "code",
   "execution_count": 28,
   "metadata": {},
   "outputs": [
    {
     "name": "stdout",
     "output_type": "stream",
     "text": [
      "Accuracy = 0.855564\n"
     ]
    }
   ],
   "source": [
    "from sklearn.metrics import accuracy_score\n",
    "print(\"Accuracy = %f\"%accuracy_score(y_test, clf.predict(X_test)))"
   ]
  },
  {
   "cell_type": "markdown",
   "metadata": {},
   "source": [
    "# Модель градиентного бустинга над решающими деревьями"
   ]
  },
  {
   "cell_type": "code",
   "execution_count": 29,
   "metadata": {
    "scrolled": true
   },
   "outputs": [],
   "source": [
    "kf = KFold(n_splits=5,shuffle=True)\n",
    "score = []\n",
    "accuracy = []\n",
    "for k in range(1,100):\n",
    "    model = CatBoostClassifier(n_estimators = k,loss_function='Logloss', verbose =False)\n",
    "    score = cross_val_score(model, X,y, cv=kf, scoring = \"f1\")\n",
    "    accuracy.append(score.mean())\n"
   ]
  },
  {
   "cell_type": "code",
   "execution_count": 30,
   "metadata": {},
   "outputs": [
    {
     "data": {
      "text/plain": [
       "<matplotlib.legend.Legend at 0x7f2b209c2e50>"
      ]
     },
     "execution_count": 30,
     "metadata": {},
     "output_type": "execute_result"
    },
    {
     "data": {
      "image/png": "[encoded data removed]",
      "text/plain": [
       "<Figure size 1080x720 with 1 Axes>"
      ]
     },
     "metadata": {
      "needs_background": "light"
     },
     "output_type": "display_data"
    }
   ],
   "source": [
    "n_estim = range(1,100)\n",
    "plt.figure(figsize = [15,10])\n",
    "plt.plot(n_estim,accuracy)\n",
    "plt.grid(\"on\")\n",
    "plt.xlabel('k')\n",
    "plt.ylabel('F-мера')\n",
    "plt.legend([\"accuracy\"])"
   ]
  },
  {
   "cell_type": "code",
   "execution_count": 31,
   "metadata": {},
   "outputs": [
    {
     "name": "stdout",
     "output_type": "stream",
     "text": [
      "Максимально езначение F-меры 0.714129, достигается при n_estimators = 84\n"
     ]
    }
   ],
   "source": [
    "maxF = max(accuracy)\n",
    "maxInd = accuracy.index(maxF)\n",
    "print(\"Максимально езначение F-меры %f, достигается при n_estimators = %d\" %(maxF, maxInd))"
   ]
  },
  {
   "cell_type": "code",
   "execution_count": 32,
   "metadata": {},
   "outputs": [],
   "source": [
    "clf = CatBoostClassifier(random_state=241,n_estimators=maxInd, verbose = False)\n",
    "clf = clf.fit(X_train, y_train)"
   ]
  },
  {
   "cell_type": "code",
   "execution_count": 33,
   "metadata": {},
   "outputs": [
    {
     "data": {
      "text/html": [
       "<div>\n",
       "<style scoped>\n",
       "    .dataframe tbody tr th:only-of-type {\n",
       "        vertical-align: middle;\n",
       "    }\n",
       "\n",
       "    .dataframe tbody tr th {\n",
       "        vertical-align: top;\n",
       "    }\n",
       "\n",
       "    .dataframe thead th {\n",
       "        text-align: right;\n",
       "    }\n",
       "</style>\n",
       "<table border=\"1\" class=\"dataframe\">\n",
       "  <thead>\n",
       "    <tr style=\"text-align: right;\">\n",
       "      <th></th>\n",
       "      <th>predicted &gt;50</th>\n",
       "      <th>predicted &lt;50</th>\n",
       "    </tr>\n",
       "  </thead>\n",
       "  <tbody>\n",
       "    <tr>\n",
       "      <th>actual &gt;50</th>\n",
       "      <td>6947</td>\n",
       "      <td>454</td>\n",
       "    </tr>\n",
       "    <tr>\n",
       "      <th>actual &lt;50</th>\n",
       "      <td>808</td>\n",
       "      <td>1560</td>\n",
       "    </tr>\n",
       "  </tbody>\n",
       "</table>\n",
       "</div>"
      ],
      "text/plain": [
       "            predicted >50  predicted <50\n",
       "actual >50           6947            454\n",
       "actual <50            808           1560"
      ]
     },
     "execution_count": 33,
     "metadata": {},
     "output_type": "execute_result"
    }
   ],
   "source": [
    "confusion_matrix1 = confusion_matrix(y_test, clf.predict(X_test)) \n",
    "pd.DataFrame(data  =  confusion_matrix1,  columns  =  ['predicted >50', \n",
    "'predicted <50'], index = ['actual >50', 'actual <50']) "
   ]
  },
  {
   "cell_type": "code",
   "execution_count": 34,
   "metadata": {},
   "outputs": [
    {
     "name": "stdout",
     "output_type": "stream",
     "text": [
      "Accuracy = 0.870816\n"
     ]
    }
   ],
   "source": [
    "from sklearn.metrics import accuracy_score\n",
    "print(\"Accuracy = %f\"%accuracy_score(y_test, clf.predict(X_test)))"
   ]
  },
  {
   "cell_type": "markdown",
   "metadata": {},
   "source": [
    "# Вывод по применению алгоритмов на основе решающих деревьев\n",
    "## Решаюшие деревья\n",
    "Оптимальным значением глубины решающего дерева явлется значеение = 10, при этом F-мера = 0.678465\n",
    "## Случайный лес\n",
    "Оптимальным значением количества решающих деревьев в композиции явлется значеение = 48, при этом F-мера = 0.682652. Данное значение хоть и улучшилось, но не значительно, а также заметно, что чем больше деревьев в композиции тем лучше\n",
    "## Бустинг\n",
    "птимальным значением количества решающих деревьев в композиции явлется значеение = 84, при этом F-мера = 0.714129. Данное значение также улучшилось по сравнению со случайным лесом"
   ]
  },
  {
   "cell_type": "markdown",
   "metadata": {},
   "source": [
    "# Модель нейронной сети для MNIST набора данных"
   ]
  },
  {
   "cell_type": "code",
   "execution_count": 4,
   "metadata": {},
   "outputs": [],
   "source": [
    "from tensorflow.keras.datasets import mnist\n",
    "(X_train, y_train), (X_test, y_test) = mnist.load_data()"
   ]
  },
  {
   "cell_type": "code",
   "execution_count": 5,
   "metadata": {},
   "outputs": [
    {
     "data": {
      "image/png": "[encoded data removed]",
      "text/plain": [
       "<Figure size 432x288 with 1 Axes>"
      ]
     },
     "metadata": {
      "needs_background": "light"
     },
     "output_type": "display_data"
    }
   ],
   "source": [
    "sample = 100\n",
    "image = X_test[2]\n",
    "fig = plt.figure\n",
    "plt.imshow(image, cmap='gray')\n",
    "plt.show()"
   ]
  },
  {
   "cell_type": "code",
   "execution_count": 6,
   "metadata": {},
   "outputs": [],
   "source": [
    "X_train = X_train.reshape(X_train.shape[0], 28*28)\n",
    "X_test = X_test.reshape(X_test.shape[0], 28*28)"
   ]
  },
  {
   "cell_type": "code",
   "execution_count": 7,
   "metadata": {},
   "outputs": [],
   "source": [
    "y_train = np_utils.to_categorical(y_train, 10)\n",
    "y_test = np_utils.to_categorical(y_test, 10)"
   ]
  },
  {
   "cell_type": "code",
   "execution_count": 8,
   "metadata": {},
   "outputs": [
    {
     "name": "stdout",
     "output_type": "stream",
     "text": [
      "Model: \"sequential\"\n",
      "_________________________________________________________________\n",
      "Layer (type)                 Output Shape              Param #   \n",
      "=================================================================\n",
      "dense (Dense)                (None, 32)                25120     \n",
      "_________________________________________________________________\n",
      "activation (Activation)      (None, 32)                0         \n",
      "_________________________________________________________________\n",
      "dropout (Dropout)            (None, 32)                0         \n",
      "_________________________________________________________________\n",
      "dense_1 (Dense)              (None, 16)                528       \n",
      "_________________________________________________________________\n",
      "activation_1 (Activation)    (None, 16)                0         \n",
      "_________________________________________________________________\n",
      "dense_2 (Dense)              (None, 8)                 136       \n",
      "_________________________________________________________________\n",
      "activation_2 (Activation)    (None, 8)                 0         \n",
      "_________________________________________________________________\n",
      "dense_3 (Dense)              (None, 10)                90        \n",
      "_________________________________________________________________\n",
      "activation_3 (Activation)    (None, 10)                0         \n",
      "=================================================================\n",
      "Total params: 25,874\n",
      "Trainable params: 25,874\n",
      "Non-trainable params: 0\n",
      "_________________________________________________________________\n"
     ]
    }
   ],
   "source": [
    "NB_CLASSES = y_train.shape[1]\n",
    "INPUT_SHAPE = (X_train.shape[1],)\n",
    "model = Sequential()\n",
    "model.add(Dense(32, input_shape=INPUT_SHAPE))\n",
    "model.add(Activation('relu'))\n",
    "model.add(Dropout(0.3))\n",
    "model.add(Dense(16))\n",
    "model.add(Activation('relu'))\n",
    "model.add(Dense(8))\n",
    "model.add(Activation('relu'))\n",
    "model.add(Dense(NB_CLASSES))\n",
    "model.add(Activation('softmax'))\n",
    "model.summary()\n",
    "\n",
    "model.compile(loss='categorical_crossentropy',\n",
    "    optimizer = 'adam',\n",
    "    metrics=['accuracy','Precision', 'Recall'])\n"
   ]
  },
  {
   "cell_type": "code",
   "execution_count": 9,
   "metadata": {},
   "outputs": [
    {
     "name": "stdout",
     "output_type": "stream",
     "text": [
      "WARNING:tensorflow:From /home/aidar/anaconda3/lib/python3.7/site-packages/tensorflow/python/ops/resource_variable_ops.py:1817: calling BaseResourceVariable.__init__ (from tensorflow.python.ops.resource_variable_ops) with constraint is deprecated and will be removed in a future version.\n",
      "Instructions for updating:\n",
      "If using Keras pass *_constraint arguments to layers.\n",
      "CPU times: user 1min 28s, sys: 13.7 s, total: 1min 42s\n",
      "Wall time: 44 s\n"
     ]
    }
   ],
   "source": [
    "%%time\n",
    "EPOCHS = 30\n",
    "history = model.fit(X_train, y_train,\n",
    "                    batch_size = 128, epochs = EPOCHS,\n",
    "                    verbose = 0, validation_data = (X_test, y_test))"
   ]
  },
  {
   "cell_type": "code",
   "execution_count": 13,
   "metadata": {},
   "outputs": [
    {
     "data": {
      "text/plain": [
       "[0.14206667244434357,\n",
       " 0.2011999934911728,\n",
       " 0.29963332414627075,\n",
       " 0.4392833411693573,\n",
       " 0.5447166562080383,\n",
       " 0.6500833630561829,\n",
       " 0.6969333291053772,\n",
       " 0.7103999853134155,\n",
       " 0.7283166646957397,\n",
       " 0.753166675567627,\n",
       " 0.7675333619117737,\n",
       " 0.7810999751091003,\n",
       " 0.7890833616256714,\n",
       " 0.7982000112533569,\n",
       " 0.8046166896820068,\n",
       " 0.8112499713897705,\n",
       " 0.8132833242416382,\n",
       " 0.8172833323478699,\n",
       " 0.8205833435058594,\n",
       " 0.8268333077430725,\n",
       " 0.8285833597183228,\n",
       " 0.8288999795913696,\n",
       " 0.8355166912078857,\n",
       " 0.8353000283241272,\n",
       " 0.8407166600227356,\n",
       " 0.8430500030517578,\n",
       " 0.8448666930198669,\n",
       " 0.8495333194732666,\n",
       " 0.8514000177383423,\n",
       " 0.854283332824707]"
      ]
     },
     "execution_count": 13,
     "metadata": {},
     "output_type": "execute_result"
    }
   ],
   "source": [
    "history.history['accuracy']"
   ]
  },
  {
   "cell_type": "code",
   "execution_count": 211,
   "metadata": {},
   "outputs": [
    {
     "name": "stdout",
     "output_type": "stream",
     "text": [
      "1\n"
     ]
    }
   ],
   "source": [
    "y_pred = model.predict_classes(X_test)\n",
    "print(y_pred[2])\n"
   ]
  },
  {
   "cell_type": "code",
   "execution_count": 215,
   "metadata": {},
   "outputs": [
    {
     "data": {
      "image/png": "[encoded data removed]",
      "text/plain": [
       "<Figure size 432x288 with 2 Axes>"
      ]
     },
     "metadata": {
      "needs_background": "light"
     },
     "output_type": "display_data"
    }
   ],
   "source": [
    "confusion_matrix_ = confusion_matrix(np.argmax(y_test,axis=-1), y_pred)\n",
    "cm = pd.DataFrame(data = confusion_matrix_, columns = ['0', '1', '2', '3', '4',\n",
    "'5', '6', '7', '8', '9'], index = ['0', '1', '2', '3', '4', '5', '6', '7', '8', '9'])\n",
    "ax = sns.heatmap(cm, annot=True, fmt=\"d\")"
   ]
  },
  {
   "cell_type": "markdown",
   "metadata": {},
   "source": [
    "# Вывод по созданию нейронной сети для определения рукописных цифр\n",
    "Для решения данной задачи была составлена модель нейронной сети - многослойный перцептрон. Сеть состоит из 4 слоев нейронов. Данная модель показывает хорошее качество по угадыванию цифр, что видно на матрице ошибок."
   ]
  },
  {
   "cell_type": "code",
   "execution_count": null,
   "metadata": {},
   "outputs": [],
   "source": []
  }
 ],
 "metadata": {
  "kernelspec": {
   "display_name": "Python 3",
   "language": "python",
   "name": "python3"
  },
  "language_info": {
   "codemirror_mode": {
    "name": "ipython",
    "version": 3
   },
   "file_extension": ".py",
   "mimetype": "text/x-python",
   "name": "python",
   "nbconvert_exporter": "python",
   "pygments_lexer": "ipython3",
   "version": "3.7.7"
  }
 },
 "nbformat": 4,
 "nbformat_minor": 4
}
